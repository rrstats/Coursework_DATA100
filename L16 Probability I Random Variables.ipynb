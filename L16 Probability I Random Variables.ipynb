{
 "cells": [
  {
   "cell_type": "markdown",
   "id": "0828f9a3",
   "metadata": {},
   "source": []
  },
  {
   "cell_type": "markdown",
   "id": "50e406c5",
   "metadata": {},
   "source": []
  },
  {
   "cell_type": "code",
   "execution_count": 17,
   "id": "d605b8f3",
   "metadata": {},
   "outputs": [],
   "source": [
    "import numpy as np\n",
    "import pandas as pd\n",
    "import matplotlib\n",
    "import matplotlib.pyplot as plt\n",
    "import seaborn as sns\n",
    "\n",
    "# big font helper\n",
    "def adjust_fontsize(size=None):\n",
    "    SMALL_SIZE = 8\n",
    "    MEDIUM_SIZE = 10\n",
    "    BIGGER_SIZE = 12\n",
    "    if size != None:\n",
    "        SMALL_SIZE = MEDIUM_SIZE = BIGGER_SIZE = size\n",
    "\n",
    "    plt.rc('font', size=SMALL_SIZE)          # controls default text sizes\n",
    "    plt.rc('axes', titlesize=SMALL_SIZE)     # fontsize of the axes title\n",
    "    plt.rc('axes', labelsize=MEDIUM_SIZE)    # fontsize of the x and y labels\n",
    "    plt.rc('xtick', labelsize=SMALL_SIZE)    # fontsize of the tick labels\n",
    "    plt.rc('ytick', labelsize=SMALL_SIZE)    # fontsize of the tick labels\n",
    "    plt.rc('legend', fontsize=SMALL_SIZE)    # legend fontsize\n",
    "    plt.rc('figure', titlesize=BIGGER_SIZE)  # fontsize of the figure title\n",
    "\n",
    "plt.style.use('fivethirtyeight')\n",
    "sns.set_context(\"talk\")\n",
    "sns.set_theme()\n",
    "#plt.style.use('default') # revert style to default mpl\n",
    "adjust_fontsize(size=20)\n",
    "%matplotlib inline"
   ]
  },
  {
   "cell_type": "markdown",
   "id": "5c82ecd4",
   "metadata": {},
   "source": [
    "Plotting helper functions."
   ]
  },
  {
   "cell_type": "code",
   "execution_count": 18,
   "id": "035ad8a4",
   "metadata": {},
   "outputs": [],
   "source": [
    "# helper functions to plot and \n",
    "# compute expectation, variance, standard deviation\n",
    "def plot_dist(dist_df,\n",
    "                      xname=\"x\", pname=\"P(X = x)\", varname=\"X\",\n",
    "                      save=False):\n",
    "    \"\"\"\n",
    "    Plot a distribution from a distribution table.\n",
    "    Single-variate.\n",
    "    \"\"\"\n",
    "    plt.bar(dist_df[xname], dist_df[pname])\n",
    "    plt.ylabel(pname)\n",
    "    plt.xlabel(xname)\n",
    "    plt.title(f\"Distribution of ${varname}$\")\n",
    "    plt.xticks(sorted(dist_df[xname].unique()))\n",
    "    if save:\n",
    "        fig = plt.gcf()\n",
    "        fig.patch.set_alpha(0.0)\n",
    "        plt.savefig(f\"dist{varname}.png\", bbox_inches = 'tight');\n",
    "\n",
    "\n",
    "def simulate_samples(df, xname=\"x\", pname=\"P(X = x)\", size=1):\n",
    "    return np.random.choice(\n",
    "                df[xname], # draw from these choiecs\n",
    "                size=size, # this many times\n",
    "                p=df[pname]) # according to this distribution\n",
    "\n",
    "def simulate_iid_df(dist_df, nvars, rows, varname=\"X\"):\n",
    "    \"\"\"\n",
    "    Make an (row x nvars) dataframe\n",
    "    by calling simulate_samples for each of the nvars per row\n",
    "    \"\"\"\n",
    "    sample_dict = {}\n",
    "    for i in range(nvars):\n",
    "        # generate many datapoints \n",
    "        sample_dict[f\"{varname}_{i+1}\"] = \\\n",
    "            simulate_samples(dist_df, size=rows)\n",
    "    return pd.DataFrame(sample_dict)\n",
    "\n",
    "\n",
    "def plot_simulated_dist(df, colname, show_stats=True, save=False, **kwargs):\n",
    "    \"\"\"\n",
    "    Plot a simulated population.\n",
    "    \"\"\"\n",
    "    sns.histplot(data=df, x=colname, stat='probability', discrete=True, **kwargs)\n",
    "    plt.xticks(sorted(df[colname].unique())) # if there are gaps)\n",
    "    if show_stats:\n",
    "        display(stats_df_multi(df, [colname]))\n",
    "    if save:\n",
    "        fig = plt.gcf()\n",
    "        fig.patch.set_alpha(0.0)\n",
    "        plt.savefig(f\"sim{colname}.png\", bbox_inches = 'tight');\n",
    "\n",
    "def stats_df_multi(df, colnames):\n",
    "    means = df[colnames].mean(axis=0)\n",
    "    variances = df[colnames].var(axis=0)\n",
    "    stdevs = df[colnames].std(axis=0)\n",
    "    df_stats = pd.concat([means, variances, stdevs],axis=1).T\n",
    "    df_stats['index_col'] = [\"E[•]\", \"Var(•)\", \"SD(•)\"]\n",
    "    df_stats = df_stats.set_index('index_col', drop=True).rename_axis(None)\n",
    "    return df_stats\n",
    "\n",
    "def plot_simulated_dist_multi(df, colnames, show_stats=True):\n",
    "    \"\"\"\n",
    "    If multiple columns provided, use separate plots.\n",
    "    \"\"\"\n",
    "    ncols = 1\n",
    "    nrows = len(colnames)\n",
    "    plt.figure(figsize=(6, 2*nrows+2))\n",
    "    \n",
    "    for i, colname in enumerate(colnames):\n",
    "        subplot_int = int(100*int(nrows) + 10*int(ncols) + int(i+1))\n",
    "        plt.subplot(subplot_int)\n",
    "        plot_simulated_dist(df, colname, show_stats=False)\n",
    "    plt.tight_layout()\n",
    "    if show_stats:\n",
    "        display(stats_df_multi(df, colnames))"
   ]
  },
  {
   "cell_type": "markdown",
   "id": "f58fc7af",
   "metadata": {},
   "source": [
    "## Sum of 2 Dice Rolls\n",
    "Here is the distribution of a single die roll:"
   ]
  },
  {
   "cell_type": "code",
   "execution_count": 19,
   "id": "e1648d7c",
   "metadata": {},
   "outputs": [
    {
     "data": {
      "text/html": [
       "<div>\n",
       "<style scoped>\n",
       "    .dataframe tbody tr th:only-of-type {\n",
       "        vertical-align: middle;\n",
       "    }\n",
       "\n",
       "    .dataframe tbody tr th {\n",
       "        vertical-align: top;\n",
       "    }\n",
       "\n",
       "    .dataframe thead th {\n",
       "        text-align: right;\n",
       "    }\n",
       "</style>\n",
       "<table border=\"1\" class=\"dataframe\">\n",
       "  <thead>\n",
       "    <tr style=\"text-align: right;\">\n",
       "      <th></th>\n",
       "      <th>x</th>\n",
       "      <th>P(X = x)</th>\n",
       "    </tr>\n",
       "  </thead>\n",
       "  <tbody>\n",
       "    <tr>\n",
       "      <th>0</th>\n",
       "      <td>1</td>\n",
       "      <td>0.166667</td>\n",
       "    </tr>\n",
       "    <tr>\n",
       "      <th>1</th>\n",
       "      <td>2</td>\n",
       "      <td>0.166667</td>\n",
       "    </tr>\n",
       "    <tr>\n",
       "      <th>2</th>\n",
       "      <td>3</td>\n",
       "      <td>0.166667</td>\n",
       "    </tr>\n",
       "    <tr>\n",
       "      <th>3</th>\n",
       "      <td>4</td>\n",
       "      <td>0.166667</td>\n",
       "    </tr>\n",
       "    <tr>\n",
       "      <th>4</th>\n",
       "      <td>5</td>\n",
       "      <td>0.166667</td>\n",
       "    </tr>\n",
       "    <tr>\n",
       "      <th>5</th>\n",
       "      <td>6</td>\n",
       "      <td>0.166667</td>\n",
       "    </tr>\n",
       "  </tbody>\n",
       "</table>\n",
       "</div>"
      ],
      "text/plain": [
       "   x  P(X = x)\n",
       "0  1  0.166667\n",
       "1  2  0.166667\n",
       "2  3  0.166667\n",
       "3  4  0.166667\n",
       "4  5  0.166667\n",
       "5  6  0.166667"
      ]
     },
     "execution_count": 19,
     "metadata": {},
     "output_type": "execute_result"
    }
   ],
   "source": [
    "roll_df = pd.DataFrame({\"x\": [1, 2, 3, 4, 5, 6],\n",
    "                       \"P(X = x)\": np.ones(6)/6})\n",
    "roll_df\n"
   ]
  },
  {
   "cell_type": "markdown",
   "id": "41ccc9b4",
   "metadata": {},
   "source": [
    "Lrt $X_1, X_2$ are the outcomes of two dice rolls. Note $X_1$ & $X_2$ are i.i.d. (independent and identically distributed)."
   ]
  },
  {
   "cell_type": "markdown",
   "id": "fff3791b",
   "metadata": {},
   "source": [
    "### Wanna simulate 80,000 different pairs of dice rolls?\n",
    "\n",
    "Below, we call a helper function simulate_iid_df which simulates an 80,000-row table of $X_1$, $X_2$ values. It uses np.random.choice(arr, size, p) link where arr is the array the values p is the probability associated with choosing each value."
   ]
  },
  {
   "cell_type": "code",
   "execution_count": 20,
   "id": "ba639c1c",
   "metadata": {},
   "outputs": [
    {
     "data": {
      "text/html": [
       "<div>\n",
       "<style scoped>\n",
       "    .dataframe tbody tr th:only-of-type {\n",
       "        vertical-align: middle;\n",
       "    }\n",
       "\n",
       "    .dataframe tbody tr th {\n",
       "        vertical-align: top;\n",
       "    }\n",
       "\n",
       "    .dataframe thead th {\n",
       "        text-align: right;\n",
       "    }\n",
       "</style>\n",
       "<table border=\"1\" class=\"dataframe\">\n",
       "  <thead>\n",
       "    <tr style=\"text-align: right;\">\n",
       "      <th></th>\n",
       "      <th>X_1</th>\n",
       "      <th>X_2</th>\n",
       "    </tr>\n",
       "  </thead>\n",
       "  <tbody>\n",
       "    <tr>\n",
       "      <th>0</th>\n",
       "      <td>3</td>\n",
       "      <td>2</td>\n",
       "    </tr>\n",
       "    <tr>\n",
       "      <th>1</th>\n",
       "      <td>4</td>\n",
       "      <td>2</td>\n",
       "    </tr>\n",
       "    <tr>\n",
       "      <th>2</th>\n",
       "      <td>2</td>\n",
       "      <td>5</td>\n",
       "    </tr>\n",
       "    <tr>\n",
       "      <th>3</th>\n",
       "      <td>4</td>\n",
       "      <td>6</td>\n",
       "    </tr>\n",
       "    <tr>\n",
       "      <th>4</th>\n",
       "      <td>5</td>\n",
       "      <td>2</td>\n",
       "    </tr>\n",
       "    <tr>\n",
       "      <th>...</th>\n",
       "      <td>...</td>\n",
       "      <td>...</td>\n",
       "    </tr>\n",
       "    <tr>\n",
       "      <th>79995</th>\n",
       "      <td>5</td>\n",
       "      <td>6</td>\n",
       "    </tr>\n",
       "    <tr>\n",
       "      <th>79996</th>\n",
       "      <td>2</td>\n",
       "      <td>3</td>\n",
       "    </tr>\n",
       "    <tr>\n",
       "      <th>79997</th>\n",
       "      <td>5</td>\n",
       "      <td>1</td>\n",
       "    </tr>\n",
       "    <tr>\n",
       "      <th>79998</th>\n",
       "      <td>1</td>\n",
       "      <td>1</td>\n",
       "    </tr>\n",
       "    <tr>\n",
       "      <th>79999</th>\n",
       "      <td>1</td>\n",
       "      <td>3</td>\n",
       "    </tr>\n",
       "  </tbody>\n",
       "</table>\n",
       "<p>80000 rows × 2 columns</p>\n",
       "</div>"
      ],
      "text/plain": [
       "       X_1  X_2\n",
       "0        3    2\n",
       "1        4    2\n",
       "2        2    5\n",
       "3        4    6\n",
       "4        5    2\n",
       "...    ...  ...\n",
       "79995    5    6\n",
       "79996    2    3\n",
       "79997    5    1\n",
       "79998    1    1\n",
       "79999    1    3\n",
       "\n",
       "[80000 rows x 2 columns]"
      ]
     },
     "execution_count": 20,
     "metadata": {},
     "output_type": "execute_result"
    }
   ],
   "source": [
    "N = 80000\n",
    "sim_rolls_df = simulate_iid_df(roll_df, nvars=2, rows=N)\n",
    "sim_rolls_df"
   ]
  },
  {
   "cell_type": "markdown",
   "id": "cf835a01",
   "metadata": {},
   "source": [
    "Define the following random variables, which are functions of $X_1$ and $X_2$:\n",
    "\n",
    "$Y$ = $X_1 + X_1 = 2X_1$\n",
    "\n",
    "$Z$ = $X_1 + X_2$\n",
    "\n",
    "We can use our simulated values of $X_1, X_2$ to create new columns $Y$ & $Z$:"
   ]
  },
  {
   "cell_type": "code",
   "execution_count": 21,
   "id": "05e3f856",
   "metadata": {},
   "outputs": [
    {
     "data": {
      "text/html": [
       "<div>\n",
       "<style scoped>\n",
       "    .dataframe tbody tr th:only-of-type {\n",
       "        vertical-align: middle;\n",
       "    }\n",
       "\n",
       "    .dataframe tbody tr th {\n",
       "        vertical-align: top;\n",
       "    }\n",
       "\n",
       "    .dataframe thead th {\n",
       "        text-align: right;\n",
       "    }\n",
       "</style>\n",
       "<table border=\"1\" class=\"dataframe\">\n",
       "  <thead>\n",
       "    <tr style=\"text-align: right;\">\n",
       "      <th></th>\n",
       "      <th>X_1</th>\n",
       "      <th>X_2</th>\n",
       "      <th>Y</th>\n",
       "      <th>Z</th>\n",
       "    </tr>\n",
       "  </thead>\n",
       "  <tbody>\n",
       "    <tr>\n",
       "      <th>0</th>\n",
       "      <td>3</td>\n",
       "      <td>2</td>\n",
       "      <td>6</td>\n",
       "      <td>5</td>\n",
       "    </tr>\n",
       "    <tr>\n",
       "      <th>1</th>\n",
       "      <td>4</td>\n",
       "      <td>2</td>\n",
       "      <td>8</td>\n",
       "      <td>6</td>\n",
       "    </tr>\n",
       "    <tr>\n",
       "      <th>2</th>\n",
       "      <td>2</td>\n",
       "      <td>5</td>\n",
       "      <td>4</td>\n",
       "      <td>7</td>\n",
       "    </tr>\n",
       "    <tr>\n",
       "      <th>3</th>\n",
       "      <td>4</td>\n",
       "      <td>6</td>\n",
       "      <td>8</td>\n",
       "      <td>10</td>\n",
       "    </tr>\n",
       "    <tr>\n",
       "      <th>4</th>\n",
       "      <td>5</td>\n",
       "      <td>2</td>\n",
       "      <td>10</td>\n",
       "      <td>7</td>\n",
       "    </tr>\n",
       "    <tr>\n",
       "      <th>...</th>\n",
       "      <td>...</td>\n",
       "      <td>...</td>\n",
       "      <td>...</td>\n",
       "      <td>...</td>\n",
       "    </tr>\n",
       "    <tr>\n",
       "      <th>79995</th>\n",
       "      <td>5</td>\n",
       "      <td>6</td>\n",
       "      <td>10</td>\n",
       "      <td>11</td>\n",
       "    </tr>\n",
       "    <tr>\n",
       "      <th>79996</th>\n",
       "      <td>2</td>\n",
       "      <td>3</td>\n",
       "      <td>4</td>\n",
       "      <td>5</td>\n",
       "    </tr>\n",
       "    <tr>\n",
       "      <th>79997</th>\n",
       "      <td>5</td>\n",
       "      <td>1</td>\n",
       "      <td>10</td>\n",
       "      <td>6</td>\n",
       "    </tr>\n",
       "    <tr>\n",
       "      <th>79998</th>\n",
       "      <td>1</td>\n",
       "      <td>1</td>\n",
       "      <td>2</td>\n",
       "      <td>2</td>\n",
       "    </tr>\n",
       "    <tr>\n",
       "      <th>79999</th>\n",
       "      <td>1</td>\n",
       "      <td>3</td>\n",
       "      <td>2</td>\n",
       "      <td>4</td>\n",
       "    </tr>\n",
       "  </tbody>\n",
       "</table>\n",
       "<p>80000 rows × 4 columns</p>\n",
       "</div>"
      ],
      "text/plain": [
       "       X_1  X_2   Y   Z\n",
       "0        3    2   6   5\n",
       "1        4    2   8   6\n",
       "2        2    5   4   7\n",
       "3        4    6   8  10\n",
       "4        5    2  10   7\n",
       "...    ...  ...  ..  ..\n",
       "79995    5    6  10  11\n",
       "79996    2    3   4   5\n",
       "79997    5    1  10   6\n",
       "79998    1    1   2   2\n",
       "79999    1    3   2   4\n",
       "\n",
       "[80000 rows x 4 columns]"
      ]
     },
     "execution_count": 21,
     "metadata": {},
     "output_type": "execute_result"
    }
   ],
   "source": [
    "sim_rolls_df['Y'] = 2*sim_rolls_df['X_1']\n",
    "sim_rolls_df['Z'] = sim_rolls_df['X_1'] + sim_rolls_df['X_2']\n",
    "sim_rolls_df"
   ]
  },
  {
   "cell_type": "code",
   "execution_count": 22,
   "id": "0f5888e2",
   "metadata": {},
   "outputs": [
    {
     "data": {
      "text/html": [
       "<div>\n",
       "<style scoped>\n",
       "    .dataframe tbody tr th:only-of-type {\n",
       "        vertical-align: middle;\n",
       "    }\n",
       "\n",
       "    .dataframe tbody tr th {\n",
       "        vertical-align: top;\n",
       "    }\n",
       "\n",
       "    .dataframe thead th {\n",
       "        text-align: right;\n",
       "    }\n",
       "</style>\n",
       "<table border=\"1\" class=\"dataframe\">\n",
       "  <thead>\n",
       "    <tr style=\"text-align: right;\">\n",
       "      <th></th>\n",
       "      <th>Y</th>\n",
       "    </tr>\n",
       "  </thead>\n",
       "  <tbody>\n",
       "    <tr>\n",
       "      <th>E[•]</th>\n",
       "      <td>7.019250</td>\n",
       "    </tr>\n",
       "    <tr>\n",
       "      <th>Var(•)</th>\n",
       "      <td>11.707376</td>\n",
       "    </tr>\n",
       "    <tr>\n",
       "      <th>SD(•)</th>\n",
       "      <td>3.421604</td>\n",
       "    </tr>\n",
       "  </tbody>\n",
       "</table>\n",
       "</div>"
      ],
      "text/plain": [
       "                Y\n",
       "E[•]     7.019250\n",
       "Var(•)  11.707376\n",
       "SD(•)    3.421604"
      ]
     },
     "metadata": {},
     "output_type": "display_data"
    },
    {
     "data": {
      "image/png": "[encoded data removed]",
      "text/plain": [
       "<Figure size 432x288 with 1 Axes>"
      ]
     },
     "metadata": {
      "needs_background": "light"
     },
     "output_type": "display_data"
    }
   ],
   "source": [
    "plot_simulated_dist(sim_rolls_df, \"Y\", save=True)"
   ]
  },
  {
   "cell_type": "code",
   "execution_count": 23,
   "id": "3bdb1e6c",
   "metadata": {
    "scrolled": false
   },
   "outputs": [
    {
     "data": {
      "text/html": [
       "<div>\n",
       "<style scoped>\n",
       "    .dataframe tbody tr th:only-of-type {\n",
       "        vertical-align: middle;\n",
       "    }\n",
       "\n",
       "    .dataframe tbody tr th {\n",
       "        vertical-align: top;\n",
       "    }\n",
       "\n",
       "    .dataframe thead th {\n",
       "        text-align: right;\n",
       "    }\n",
       "</style>\n",
       "<table border=\"1\" class=\"dataframe\">\n",
       "  <thead>\n",
       "    <tr style=\"text-align: right;\">\n",
       "      <th></th>\n",
       "      <th>Z</th>\n",
       "    </tr>\n",
       "  </thead>\n",
       "  <tbody>\n",
       "    <tr>\n",
       "      <th>E[•]</th>\n",
       "      <td>7.011913</td>\n",
       "    </tr>\n",
       "    <tr>\n",
       "      <th>Var(•)</th>\n",
       "      <td>5.816368</td>\n",
       "    </tr>\n",
       "    <tr>\n",
       "      <th>SD(•)</th>\n",
       "      <td>2.411715</td>\n",
       "    </tr>\n",
       "  </tbody>\n",
       "</table>\n",
       "</div>"
      ],
      "text/plain": [
       "               Z\n",
       "E[•]    7.011913\n",
       "Var(•)  5.816368\n",
       "SD(•)   2.411715"
      ]
     },
     "metadata": {},
     "output_type": "display_data"
    },
    {
     "data": {
      "image/png": "[encoded data removed]",
      "text/plain": [
       "<Figure size 432x288 with 1 Axes>"
      ]
     },
     "metadata": {
      "needs_background": "light"
     },
     "output_type": "display_data"
    }
   ],
   "source": [
    "plot_simulated_dist(sim_rolls_df, \"Z\", save=True, color='gold')"
   ]
  },
  {
   "cell_type": "code",
   "execution_count": 24,
   "id": "c16e9042",
   "metadata": {},
   "outputs": [
    {
     "data": {
      "text/html": [
       "<div>\n",
       "<style scoped>\n",
       "    .dataframe tbody tr th:only-of-type {\n",
       "        vertical-align: middle;\n",
       "    }\n",
       "\n",
       "    .dataframe tbody tr th {\n",
       "        vertical-align: top;\n",
       "    }\n",
       "\n",
       "    .dataframe thead th {\n",
       "        text-align: right;\n",
       "    }\n",
       "</style>\n",
       "<table border=\"1\" class=\"dataframe\">\n",
       "  <thead>\n",
       "    <tr style=\"text-align: right;\">\n",
       "      <th></th>\n",
       "      <th>Y</th>\n",
       "      <th>Z</th>\n",
       "    </tr>\n",
       "  </thead>\n",
       "  <tbody>\n",
       "    <tr>\n",
       "      <th>E[•]</th>\n",
       "      <td>7.019250</td>\n",
       "      <td>7.011913</td>\n",
       "    </tr>\n",
       "    <tr>\n",
       "      <th>Var(•)</th>\n",
       "      <td>11.707376</td>\n",
       "      <td>5.816368</td>\n",
       "    </tr>\n",
       "    <tr>\n",
       "      <th>SD(•)</th>\n",
       "      <td>3.421604</td>\n",
       "      <td>2.411715</td>\n",
       "    </tr>\n",
       "  </tbody>\n",
       "</table>\n",
       "</div>"
      ],
      "text/plain": [
       "                Y         Z\n",
       "E[•]     7.019250  7.011913\n",
       "Var(•)  11.707376  5.816368\n",
       "SD(•)    3.421604  2.411715"
      ]
     },
     "execution_count": 24,
     "metadata": {},
     "output_type": "execute_result"
    }
   ],
   "source": [
    "stats_df_multi(sim_rolls_df, [\"Y\", \"Z\"])"
   ]
  },
  {
   "cell_type": "markdown",
   "id": "7d670f2b",
   "metadata": {},
   "source": [
    "## Which would you pick?\n",
    "$Y_A = 10X_1 + 10X_2$\n",
    "\n",
    "$Y_B = \\sum_{i=1}^{20} X_i$\n",
    "\n",
    "$Y_C = 20X_1$"
   ]
  },
  {
   "cell_type": "markdown",
   "id": "cec27c29",
   "metadata": {},
   "source": [
    "First, let's consider the probability distribution for a single coin.\n",
    "\n",
    "This will let us flip 20 iid coins later.\n",
    "\n"
   ]
  },
  {
   "cell_type": "code",
   "execution_count": 25,
   "id": "de35fa3c",
   "metadata": {},
   "outputs": [
    {
     "data": {
      "text/html": [
       "<div>\n",
       "<style scoped>\n",
       "    .dataframe tbody tr th:only-of-type {\n",
       "        vertical-align: middle;\n",
       "    }\n",
       "\n",
       "    .dataframe tbody tr th {\n",
       "        vertical-align: top;\n",
       "    }\n",
       "\n",
       "    .dataframe thead th {\n",
       "        text-align: right;\n",
       "    }\n",
       "</style>\n",
       "<table border=\"1\" class=\"dataframe\">\n",
       "  <thead>\n",
       "    <tr style=\"text-align: right;\">\n",
       "      <th></th>\n",
       "      <th>x</th>\n",
       "      <th>P(X = x)</th>\n",
       "    </tr>\n",
       "  </thead>\n",
       "  <tbody>\n",
       "    <tr>\n",
       "      <th>0</th>\n",
       "      <td>0</td>\n",
       "      <td>0.5</td>\n",
       "    </tr>\n",
       "    <tr>\n",
       "      <th>1</th>\n",
       "      <td>1</td>\n",
       "      <td>0.5</td>\n",
       "    </tr>\n",
       "  </tbody>\n",
       "</table>\n",
       "</div>"
      ],
      "text/plain": [
       "   x  P(X = x)\n",
       "0  0       0.5\n",
       "1  1       0.5"
      ]
     },
     "execution_count": 25,
     "metadata": {},
     "output_type": "execute_result"
    }
   ],
   "source": [
    "#First construct probability distribution for a single fair coin\n",
    "p = 0.5\n",
    "coin_df = pd.DataFrame({\"x\":[0, 1], #Tails, heads\n",
    "                       \"P(X = x)\": [p, 1-p]})\n",
    "coin_df"
   ]
  },
  {
   "cell_type": "markdown",
   "id": "e1a2438d",
   "metadata": {},
   "source": [
    "## Choice A:\n",
    "$Y_A = 10X_1 + 10X_2$"
   ]
  },
  {
   "cell_type": "code",
   "execution_count": 26,
   "id": "a597b7c7",
   "metadata": {},
   "outputs": [
    {
     "name": "stdout",
     "output_type": "stream",
     "text": [
      "Sample of size 1:\n"
     ]
    },
    {
     "data": {
      "text/html": [
       "<div>\n",
       "<style scoped>\n",
       "    .dataframe tbody tr th:only-of-type {\n",
       "        vertical-align: middle;\n",
       "    }\n",
       "\n",
       "    .dataframe tbody tr th {\n",
       "        vertical-align: top;\n",
       "    }\n",
       "\n",
       "    .dataframe thead th {\n",
       "        text-align: right;\n",
       "    }\n",
       "</style>\n",
       "<table border=\"1\" class=\"dataframe\">\n",
       "  <thead>\n",
       "    <tr style=\"text-align: right;\">\n",
       "      <th></th>\n",
       "      <th>X_1</th>\n",
       "      <th>X_2</th>\n",
       "      <th>X_3</th>\n",
       "      <th>X_4</th>\n",
       "      <th>X_5</th>\n",
       "      <th>X_6</th>\n",
       "      <th>X_7</th>\n",
       "      <th>X_8</th>\n",
       "      <th>X_9</th>\n",
       "      <th>X_10</th>\n",
       "      <th>...</th>\n",
       "      <th>X_12</th>\n",
       "      <th>X_13</th>\n",
       "      <th>X_14</th>\n",
       "      <th>X_15</th>\n",
       "      <th>X_16</th>\n",
       "      <th>X_17</th>\n",
       "      <th>X_18</th>\n",
       "      <th>X_19</th>\n",
       "      <th>X_20</th>\n",
       "      <th>Y_A</th>\n",
       "    </tr>\n",
       "  </thead>\n",
       "  <tbody>\n",
       "    <tr>\n",
       "      <th>0</th>\n",
       "      <td>0</td>\n",
       "      <td>0</td>\n",
       "      <td>1</td>\n",
       "      <td>0</td>\n",
       "      <td>0</td>\n",
       "      <td>0</td>\n",
       "      <td>1</td>\n",
       "      <td>0</td>\n",
       "      <td>0</td>\n",
       "      <td>0</td>\n",
       "      <td>...</td>\n",
       "      <td>1</td>\n",
       "      <td>0</td>\n",
       "      <td>0</td>\n",
       "      <td>0</td>\n",
       "      <td>0</td>\n",
       "      <td>0</td>\n",
       "      <td>0</td>\n",
       "      <td>1</td>\n",
       "      <td>1</td>\n",
       "      <td>0</td>\n",
       "    </tr>\n",
       "  </tbody>\n",
       "</table>\n",
       "<p>1 rows × 21 columns</p>\n",
       "</div>"
      ],
      "text/plain": [
       "   X_1  X_2  X_3  X_4  X_5  X_6  X_7  X_8  X_9  X_10  ...  X_12  X_13  X_14  \\\n",
       "0    0    0    1    0    0    0    1    0    0     0  ...     1     0     0   \n",
       "\n",
       "   X_15  X_16  X_17  X_18  X_19  X_20  Y_A  \n",
       "0     0     0     0     0     1     1    0  \n",
       "\n",
       "[1 rows x 21 columns]"
      ]
     },
     "metadata": {},
     "output_type": "display_data"
    },
    {
     "name": "stdout",
     "output_type": "stream",
     "text": [
      "Y_A 0\n"
     ]
    }
   ],
   "source": [
    "#Flip 20 iid coins, each exactly once\n",
    "flips20_df = simulate_iid_df(coin_df, nvars=20, rows=1)\n",
    "\n",
    "#Construct Y_A from this sample\n",
    "flips20_df[\"Y_A\"] = 10*flips20_df[\"X_1\"] + 10*flips20_df[\"X_2\"]\n",
    "\n",
    "print(\"Sample of size 1:\")\n",
    "display(flips20_df)\n",
    "print(\"Y_A\", flips20_df.loc[0, \"Y_A\"])"
   ]
  },
  {
   "cell_type": "markdown",
   "id": "28b56ad0",
   "metadata": {},
   "source": [
    "## Choice B:\n",
    "$Y_B = \\sum_{i=1}^{20} X_i$"
   ]
  },
  {
   "cell_type": "code",
   "execution_count": 27,
   "id": "dc70206f",
   "metadata": {},
   "outputs": [
    {
     "data": {
      "text/html": [
       "<div>\n",
       "<style scoped>\n",
       "    .dataframe tbody tr th:only-of-type {\n",
       "        vertical-align: middle;\n",
       "    }\n",
       "\n",
       "    .dataframe tbody tr th {\n",
       "        vertical-align: top;\n",
       "    }\n",
       "\n",
       "    .dataframe thead th {\n",
       "        text-align: right;\n",
       "    }\n",
       "</style>\n",
       "<table border=\"1\" class=\"dataframe\">\n",
       "  <thead>\n",
       "    <tr style=\"text-align: right;\">\n",
       "      <th></th>\n",
       "      <th>X_1</th>\n",
       "      <th>X_2</th>\n",
       "      <th>X_3</th>\n",
       "      <th>X_4</th>\n",
       "      <th>X_5</th>\n",
       "      <th>X_6</th>\n",
       "      <th>X_7</th>\n",
       "      <th>X_8</th>\n",
       "      <th>X_9</th>\n",
       "      <th>X_10</th>\n",
       "      <th>...</th>\n",
       "      <th>X_12</th>\n",
       "      <th>X_13</th>\n",
       "      <th>X_14</th>\n",
       "      <th>X_15</th>\n",
       "      <th>X_16</th>\n",
       "      <th>X_17</th>\n",
       "      <th>X_18</th>\n",
       "      <th>X_19</th>\n",
       "      <th>X_20</th>\n",
       "      <th>Y_B</th>\n",
       "    </tr>\n",
       "  </thead>\n",
       "  <tbody>\n",
       "    <tr>\n",
       "      <th>0</th>\n",
       "      <td>0</td>\n",
       "      <td>0</td>\n",
       "      <td>0</td>\n",
       "      <td>0</td>\n",
       "      <td>0</td>\n",
       "      <td>0</td>\n",
       "      <td>0</td>\n",
       "      <td>1</td>\n",
       "      <td>1</td>\n",
       "      <td>0</td>\n",
       "      <td>...</td>\n",
       "      <td>0</td>\n",
       "      <td>1</td>\n",
       "      <td>0</td>\n",
       "      <td>0</td>\n",
       "      <td>0</td>\n",
       "      <td>0</td>\n",
       "      <td>0</td>\n",
       "      <td>0</td>\n",
       "      <td>1</td>\n",
       "      <td>4</td>\n",
       "    </tr>\n",
       "  </tbody>\n",
       "</table>\n",
       "<p>1 rows × 21 columns</p>\n",
       "</div>"
      ],
      "text/plain": [
       "   X_1  X_2  X_3  X_4  X_5  X_6  X_7  X_8  X_9  X_10  ...  X_12  X_13  X_14  \\\n",
       "0    0    0    0    0    0    0    0    1    1     0  ...     0     1     0   \n",
       "\n",
       "   X_15  X_16  X_17  X_18  X_19  X_20  Y_B  \n",
       "0     0     0     0     0     0     1    4  \n",
       "\n",
       "[1 rows x 21 columns]"
      ]
     },
     "metadata": {},
     "output_type": "display_data"
    },
    {
     "name": "stdout",
     "output_type": "stream",
     "text": [
      "Y_B: 4\n"
     ]
    }
   ],
   "source": [
    "#Flip 20 iid coins, each exactly once\n",
    "flips20_df = simulate_iid_df(coin_df, nvars=20, rows=1)\n",
    "\n",
    "#Construct Y_B from this sample\n",
    "flips20_df[\"Y_B\"] = flips20_df.sum(axis=1) #sum all coins\n",
    "\n",
    "display(flips20_df)\n",
    "print(\"Y_B:\", flips20_df.loc[0, \"Y_B\"])"
   ]
  },
  {
   "cell_type": "markdown",
   "id": "a195725b",
   "metadata": {},
   "source": [
    "## Choice C\n",
    "$Y_C = 20X_1$"
   ]
  },
  {
   "cell_type": "code",
   "execution_count": 28,
   "id": "216733b7",
   "metadata": {},
   "outputs": [
    {
     "data": {
      "text/html": [
       "<div>\n",
       "<style scoped>\n",
       "    .dataframe tbody tr th:only-of-type {\n",
       "        vertical-align: middle;\n",
       "    }\n",
       "\n",
       "    .dataframe tbody tr th {\n",
       "        vertical-align: top;\n",
       "    }\n",
       "\n",
       "    .dataframe thead th {\n",
       "        text-align: right;\n",
       "    }\n",
       "</style>\n",
       "<table border=\"1\" class=\"dataframe\">\n",
       "  <thead>\n",
       "    <tr style=\"text-align: right;\">\n",
       "      <th></th>\n",
       "      <th>X_1</th>\n",
       "      <th>Y_C</th>\n",
       "    </tr>\n",
       "  </thead>\n",
       "  <tbody>\n",
       "    <tr>\n",
       "      <th>0</th>\n",
       "      <td>0</td>\n",
       "      <td>0</td>\n",
       "    </tr>\n",
       "  </tbody>\n",
       "</table>\n",
       "</div>"
      ],
      "text/plain": [
       "   X_1  Y_C\n",
       "0    0    0"
      ]
     },
     "metadata": {},
     "output_type": "display_data"
    },
    {
     "name": "stdout",
     "output_type": "stream",
     "text": [
      "Y_C 0\n"
     ]
    }
   ],
   "source": [
    "#Flip 20 iid coins, each exactly once\n",
    "flips20_df = simulate_iid_df(coin_df, nvars=20, rows=1)\n",
    "\n",
    "#Construct Y_C from this sample\n",
    "flips20_df[\"Y_C\"] = 20*flips20_df[\"X_1\"]\n",
    "\n",
    "display(flips20_df[[\"X_1\", \"Y_C\"]])\n",
    "print(\"Y_C\", flips20_df.loc[0, \"Y_C\"])"
   ]
  },
  {
   "cell_type": "code",
   "execution_count": 29,
   "id": "ac24180f",
   "metadata": {},
   "outputs": [],
   "source": [
    "#How the look\n",
    "#Code not in syllabus"
   ]
  },
  {
   "cell_type": "code",
   "execution_count": 30,
   "id": "f4b80dcd",
   "metadata": {},
   "outputs": [
    {
     "name": "stdout",
     "output_type": "stream",
     "text": [
      "80000 simulated samples\n"
     ]
    },
    {
     "data": {
      "text/html": [
       "<div>\n",
       "<style scoped>\n",
       "    .dataframe tbody tr th:only-of-type {\n",
       "        vertical-align: middle;\n",
       "    }\n",
       "\n",
       "    .dataframe tbody tr th {\n",
       "        vertical-align: top;\n",
       "    }\n",
       "\n",
       "    .dataframe thead th {\n",
       "        text-align: right;\n",
       "    }\n",
       "</style>\n",
       "<table border=\"1\" class=\"dataframe\">\n",
       "  <thead>\n",
       "    <tr style=\"text-align: right;\">\n",
       "      <th></th>\n",
       "      <th>Y_A</th>\n",
       "      <th>Y_B</th>\n",
       "      <th>Y_C</th>\n",
       "    </tr>\n",
       "  </thead>\n",
       "  <tbody>\n",
       "    <tr>\n",
       "      <th>E[•]</th>\n",
       "      <td>10.030375</td>\n",
       "      <td>10.008075</td>\n",
       "      <td>12.518562</td>\n",
       "    </tr>\n",
       "    <tr>\n",
       "      <th>Var(•)</th>\n",
       "      <td>50.208455</td>\n",
       "      <td>4.950572</td>\n",
       "      <td>56.250359</td>\n",
       "    </tr>\n",
       "    <tr>\n",
       "      <th>SD(•)</th>\n",
       "      <td>7.085792</td>\n",
       "      <td>2.224988</td>\n",
       "      <td>7.500024</td>\n",
       "    </tr>\n",
       "  </tbody>\n",
       "</table>\n",
       "</div>"
      ],
      "text/plain": [
       "              Y_A        Y_B        Y_C\n",
       "E[•]    10.030375  10.008075  12.518562\n",
       "Var(•)  50.208455   4.950572  56.250359\n",
       "SD(•)    7.085792   2.224988   7.500024"
      ]
     },
     "metadata": {},
     "output_type": "display_data"
    },
    {
     "data": {
      "image/png": "[encoded data removed]",
      "text/plain": [
       "<Figure size 432x576 with 3 Axes>"
      ]
     },
     "metadata": {
      "needs_background": "light"
     },
     "output_type": "display_data"
    }
   ],
   "source": [
    "# simulate one big population of 20 fair flips, N = 80,000\n",
    "N = 80000\n",
    "df_coins = simulate_iid_df(coin_df, nvars=20, rows=N)\n",
    "print(f\"{N} simulated samples\")\n",
    "\n",
    "\n",
    "# construct Y_A, Y_B, Y_C from this population\n",
    "df_coins[\"Y_A\"] = 10*df_coins[\"X_1\"] + 10*df_coins[\"X_2\"]\n",
    "df_coins[\"Y_B\"] = df_coins.loc[:,\"X_1\":\"X_20\"].sum(axis=1)\n",
    "df_coins[\"Y_C\"] = 5 + 15*df_coins[\"X_1\"]\n",
    "plot_simulated_dist_multi(df_coins, [\"Y_A\", \"Y_B\", \"Y_C\"])\n",
    "\n",
    "# adjust axes for nicer plotting\n",
    "axs = plt.gcf().axes\n",
    "axs[1].set_xlim(axs[0].get_xlim())    # Y_B\n",
    "axs[1].set_xticks([0, 5, 10, 15, 20]) # Y_B\n",
    "axs[2].set_xlim(axs[0].get_xlim())    # Y_C\n",
    "plt.show()\n",
    "\n",
    "\n",
    "     "
   ]
  },
  {
   "cell_type": "markdown",
   "id": "2fe5f770",
   "metadata": {},
   "source": [
    "If we flipped 100 coins, look how beautiful the Binomial distribution looks:"
   ]
  },
  {
   "cell_type": "code",
   "execution_count": 31,
   "id": "60de0a08",
   "metadata": {},
   "outputs": [
    {
     "data": {
      "text/html": [
       "<div>\n",
       "<style scoped>\n",
       "    .dataframe tbody tr th:only-of-type {\n",
       "        vertical-align: middle;\n",
       "    }\n",
       "\n",
       "    .dataframe tbody tr th {\n",
       "        vertical-align: top;\n",
       "    }\n",
       "\n",
       "    .dataframe thead th {\n",
       "        text-align: right;\n",
       "    }\n",
       "</style>\n",
       "<table border=\"1\" class=\"dataframe\">\n",
       "  <thead>\n",
       "    <tr style=\"text-align: right;\">\n",
       "      <th></th>\n",
       "      <th>Y_100</th>\n",
       "    </tr>\n",
       "  </thead>\n",
       "  <tbody>\n",
       "    <tr>\n",
       "      <th>E[•]</th>\n",
       "      <td>24.998275</td>\n",
       "    </tr>\n",
       "    <tr>\n",
       "      <th>Var(•)</th>\n",
       "      <td>12.513603</td>\n",
       "    </tr>\n",
       "    <tr>\n",
       "      <th>SD(•)</th>\n",
       "      <td>3.537457</td>\n",
       "    </tr>\n",
       "  </tbody>\n",
       "</table>\n",
       "</div>"
      ],
      "text/plain": [
       "            Y_100\n",
       "E[•]    24.998275\n",
       "Var(•)  12.513603\n",
       "SD(•)    3.537457"
      ]
     },
     "metadata": {},
     "output_type": "display_data"
    },
    {
     "data": {
      "image/png": "[encoded data removed]",
      "text/plain": [
       "<Figure size 432x288 with 1 Axes>"
      ]
     },
     "metadata": {
      "needs_background": "light"
     },
     "output_type": "display_data"
    }
   ],
   "source": [
    "\n",
    "# simulate one big population of 100 fair flips, N = 80,000\n",
    "N = 80000\n",
    "df_coins = simulate_iid_df(coin_df, nvars=50, rows=N)\n",
    "df_coins[\"Y_100\"] = df_coins.loc[:,\"X_1\":\"X_50\"].sum(axis=1)\n",
    "plot_simulated_dist(df_coins, \"Y_100\")\n",
    "plt.xticks([0, 10, 20, 30, 40, 50])\n",
    "plt.show()\n",
    "\n"
   ]
  },
  {
   "cell_type": "markdown",
   "id": "1a4dafe4",
   "metadata": {},
   "source": []
  },
  {
   "cell_type": "code",
   "execution_count": null,
   "id": "2ef19585",
   "metadata": {},
   "outputs": [],
   "source": [
    "\n"
   ]
  },
  {
   "cell_type": "code",
   "execution_count": null,
   "id": "d5d8c9ec",
   "metadata": {},
   "outputs": [],
   "source": [
    "\n"
   ]
  },
  {
   "cell_type": "code",
   "execution_count": null,
   "id": "b284b861",
   "metadata": {},
   "outputs": [],
   "source": []
  },
  {
   "cell_type": "code",
   "execution_count": null,
   "id": "a6aaffec",
   "metadata": {},
   "outputs": [],
   "source": []
  }
 ],
 "metadata": {
  "kernelspec": {
   "display_name": "Python 3 (ipykernel)",
   "language": "python",
   "name": "python3"
  },
  "language_info": {
   "codemirror_mode": {
    "name": "ipython",
    "version": 3
   },
   "file_extension": ".py",
   "mimetype": "text/x-python",
   "name": "python",
   "nbconvert_exporter": "python",
   "pygments_lexer": "ipython3",
   "version": "3.8.6"
  }
 },
 "nbformat": 4,
 "nbformat_minor": 5
}
