{
  "cells": [
    {
      "cell_type": "markdown",
      "metadata": {
        "id": "view-in-github",
        "colab_type": "text"
      },
      "source": [
        "<a href=\"https://colab.research.google.com/github/rrstats/Coursework_DATA100/blob/main/DATA100_L3_Pandas.ipynb\" target=\"_parent\"><img src=\"https://colab.research.google.com/assets/colab-badge.svg\" alt=\"Open In Colab\"/></a>"
      ]
    },
    {
      "cell_type": "code",
      "execution_count": null,
      "id": "52ce9766",
      "metadata": {
        "id": "52ce9766"
      },
      "outputs": [],
      "source": [
        "%matplotlib inline\n",
        "import matplotlib.pyplot as plt\n",
        "import seaborn as sns\n",
        "import numpy as np\n",
        "import pandas as pd\n",
        "\n",
        "plt.style.use('fivethirtyeight')\n",
        "sns.set_context(\"notebook\")"
      ]
    },
    {
      "cell_type": "markdown",
      "id": "34c2cb88",
      "metadata": {
        "id": "34c2cb88"
      },
      "source": [
        "### Reading in DataFrames from Files"
      ]
    },
    {
      "cell_type": "markdown",
      "id": "5479bc9c",
      "metadata": {
        "id": "5479bc9c"
      },
      "source": [
        "File reading tools can be enumerated by typing \"pd.re\" and pressing tab"
      ]
    },
    {
      "cell_type": "code",
      "execution_count": null,
      "id": "727d6965",
      "metadata": {
        "id": "727d6965",
        "outputId": "fd9bd1cb-9ae1-4d43-b72e-7b29b82d6ef0"
      },
      "outputs": [
        {
          "data": {
            "text/html": [
              "<div>\n",
              "<style scoped>\n",
              "    .dataframe tbody tr th:only-of-type {\n",
              "        vertical-align: middle;\n",
              "    }\n",
              "\n",
              "    .dataframe tbody tr th {\n",
              "        vertical-align: top;\n",
              "    }\n",
              "\n",
              "    .dataframe thead th {\n",
              "        text-align: right;\n",
              "    }\n",
              "</style>\n",
              "<table border=\"1\" class=\"dataframe\">\n",
              "  <thead>\n",
              "    <tr style=\"text-align: right;\">\n",
              "      <th></th>\n",
              "      <th>Year</th>\n",
              "      <th>Candidate</th>\n",
              "      <th>Party</th>\n",
              "      <th>Popular vote</th>\n",
              "      <th>Result</th>\n",
              "      <th>%</th>\n",
              "    </tr>\n",
              "  </thead>\n",
              "  <tbody>\n",
              "    <tr>\n",
              "      <th>0</th>\n",
              "      <td>1824</td>\n",
              "      <td>Andrew Jackson</td>\n",
              "      <td>Democratic-Republican</td>\n",
              "      <td>151271</td>\n",
              "      <td>loss</td>\n",
              "      <td>57.210122</td>\n",
              "    </tr>\n",
              "    <tr>\n",
              "      <th>1</th>\n",
              "      <td>1824</td>\n",
              "      <td>John Quincy Adams</td>\n",
              "      <td>Democratic-Republican</td>\n",
              "      <td>113142</td>\n",
              "      <td>win</td>\n",
              "      <td>42.789878</td>\n",
              "    </tr>\n",
              "    <tr>\n",
              "      <th>2</th>\n",
              "      <td>1828</td>\n",
              "      <td>Andrew Jackson</td>\n",
              "      <td>Democratic</td>\n",
              "      <td>642806</td>\n",
              "      <td>win</td>\n",
              "      <td>56.203927</td>\n",
              "    </tr>\n",
              "    <tr>\n",
              "      <th>3</th>\n",
              "      <td>1828</td>\n",
              "      <td>John Quincy Adams</td>\n",
              "      <td>National Republican</td>\n",
              "      <td>500897</td>\n",
              "      <td>loss</td>\n",
              "      <td>43.796073</td>\n",
              "    </tr>\n",
              "    <tr>\n",
              "      <th>4</th>\n",
              "      <td>1832</td>\n",
              "      <td>Andrew Jackson</td>\n",
              "      <td>Democratic</td>\n",
              "      <td>702735</td>\n",
              "      <td>win</td>\n",
              "      <td>54.574789</td>\n",
              "    </tr>\n",
              "    <tr>\n",
              "      <th>...</th>\n",
              "      <td>...</td>\n",
              "      <td>...</td>\n",
              "      <td>...</td>\n",
              "      <td>...</td>\n",
              "      <td>...</td>\n",
              "      <td>...</td>\n",
              "    </tr>\n",
              "    <tr>\n",
              "      <th>177</th>\n",
              "      <td>2016</td>\n",
              "      <td>Jill Stein</td>\n",
              "      <td>Green</td>\n",
              "      <td>1457226</td>\n",
              "      <td>loss</td>\n",
              "      <td>1.073699</td>\n",
              "    </tr>\n",
              "    <tr>\n",
              "      <th>178</th>\n",
              "      <td>2020</td>\n",
              "      <td>Joseph Biden</td>\n",
              "      <td>Democratic</td>\n",
              "      <td>81268924</td>\n",
              "      <td>win</td>\n",
              "      <td>51.311515</td>\n",
              "    </tr>\n",
              "    <tr>\n",
              "      <th>179</th>\n",
              "      <td>2020</td>\n",
              "      <td>Donald Trump</td>\n",
              "      <td>Republican</td>\n",
              "      <td>74216154</td>\n",
              "      <td>loss</td>\n",
              "      <td>46.858542</td>\n",
              "    </tr>\n",
              "    <tr>\n",
              "      <th>180</th>\n",
              "      <td>2020</td>\n",
              "      <td>Jo Jorgensen</td>\n",
              "      <td>Libertarian</td>\n",
              "      <td>1865724</td>\n",
              "      <td>loss</td>\n",
              "      <td>1.177979</td>\n",
              "    </tr>\n",
              "    <tr>\n",
              "      <th>181</th>\n",
              "      <td>2020</td>\n",
              "      <td>Howard Hawkins</td>\n",
              "      <td>Green</td>\n",
              "      <td>405035</td>\n",
              "      <td>loss</td>\n",
              "      <td>0.255731</td>\n",
              "    </tr>\n",
              "  </tbody>\n",
              "</table>\n",
              "<p>182 rows × 6 columns</p>\n",
              "</div>"
            ],
            "text/plain": [
              "     Year          Candidate                  Party  Popular vote Result  \\\n",
              "0    1824     Andrew Jackson  Democratic-Republican        151271   loss   \n",
              "1    1824  John Quincy Adams  Democratic-Republican        113142    win   \n",
              "2    1828     Andrew Jackson             Democratic        642806    win   \n",
              "3    1828  John Quincy Adams    National Republican        500897   loss   \n",
              "4    1832     Andrew Jackson             Democratic        702735    win   \n",
              "..    ...                ...                    ...           ...    ...   \n",
              "177  2016         Jill Stein                  Green       1457226   loss   \n",
              "178  2020       Joseph Biden             Democratic      81268924    win   \n",
              "179  2020       Donald Trump             Republican      74216154   loss   \n",
              "180  2020       Jo Jorgensen            Libertarian       1865724   loss   \n",
              "181  2020     Howard Hawkins                  Green        405035   loss   \n",
              "\n",
              "             %  \n",
              "0    57.210122  \n",
              "1    42.789878  \n",
              "2    56.203927  \n",
              "3    43.796073  \n",
              "4    54.574789  \n",
              "..         ...  \n",
              "177   1.073699  \n",
              "178  51.311515  \n",
              "179  46.858542  \n",
              "180   1.177979  \n",
              "181   0.255731  \n",
              "\n",
              "[182 rows x 6 columns]"
            ]
          },
          "execution_count": 58,
          "metadata": {},
          "output_type": "execute_result"
        }
      ],
      "source": [
        "elections = pd.read_csv(\"elections.csv\")\n",
        "elections"
      ]
    },
    {
      "cell_type": "markdown",
      "id": "d43905f8",
      "metadata": {
        "id": "d43905f8"
      },
      "source": [
        "### Indexing with loc, iloc and []"
      ]
    },
    {
      "cell_type": "code",
      "execution_count": null,
      "id": "16736573",
      "metadata": {
        "id": "16736573",
        "outputId": "be9c1ef8-efd4-4f73-db73-341298580c61"
      },
      "outputs": [
        {
          "data": {
            "text/html": [
              "<div>\n",
              "<style scoped>\n",
              "    .dataframe tbody tr th:only-of-type {\n",
              "        vertical-align: middle;\n",
              "    }\n",
              "\n",
              "    .dataframe tbody tr th {\n",
              "        vertical-align: top;\n",
              "    }\n",
              "\n",
              "    .dataframe thead th {\n",
              "        text-align: right;\n",
              "    }\n",
              "</style>\n",
              "<table border=\"1\" class=\"dataframe\">\n",
              "  <thead>\n",
              "    <tr style=\"text-align: right;\">\n",
              "      <th></th>\n",
              "      <th>Year</th>\n",
              "      <th>Candidate</th>\n",
              "      <th>Party</th>\n",
              "      <th>Popular vote</th>\n",
              "      <th>Result</th>\n",
              "      <th>%</th>\n",
              "    </tr>\n",
              "  </thead>\n",
              "  <tbody>\n",
              "    <tr>\n",
              "      <th>0</th>\n",
              "      <td>1824</td>\n",
              "      <td>Andrew Jackson</td>\n",
              "      <td>Democratic-Republican</td>\n",
              "      <td>151271</td>\n",
              "      <td>loss</td>\n",
              "      <td>57.210122</td>\n",
              "    </tr>\n",
              "    <tr>\n",
              "      <th>1</th>\n",
              "      <td>1824</td>\n",
              "      <td>John Quincy Adams</td>\n",
              "      <td>Democratic-Republican</td>\n",
              "      <td>113142</td>\n",
              "      <td>win</td>\n",
              "      <td>42.789878</td>\n",
              "    </tr>\n",
              "    <tr>\n",
              "      <th>2</th>\n",
              "      <td>1828</td>\n",
              "      <td>Andrew Jackson</td>\n",
              "      <td>Democratic</td>\n",
              "      <td>642806</td>\n",
              "      <td>win</td>\n",
              "      <td>56.203927</td>\n",
              "    </tr>\n",
              "    <tr>\n",
              "      <th>3</th>\n",
              "      <td>1828</td>\n",
              "      <td>John Quincy Adams</td>\n",
              "      <td>National Republican</td>\n",
              "      <td>500897</td>\n",
              "      <td>loss</td>\n",
              "      <td>43.796073</td>\n",
              "    </tr>\n",
              "    <tr>\n",
              "      <th>4</th>\n",
              "      <td>1832</td>\n",
              "      <td>Andrew Jackson</td>\n",
              "      <td>Democratic</td>\n",
              "      <td>702735</td>\n",
              "      <td>win</td>\n",
              "      <td>54.574789</td>\n",
              "    </tr>\n",
              "  </tbody>\n",
              "</table>\n",
              "</div>"
            ],
            "text/plain": [
              "   Year          Candidate                  Party  Popular vote Result  \\\n",
              "0  1824     Andrew Jackson  Democratic-Republican        151271   loss   \n",
              "1  1824  John Quincy Adams  Democratic-Republican        113142    win   \n",
              "2  1828     Andrew Jackson             Democratic        642806    win   \n",
              "3  1828  John Quincy Adams    National Republican        500897   loss   \n",
              "4  1832     Andrew Jackson             Democratic        702735    win   \n",
              "\n",
              "           %  \n",
              "0  57.210122  \n",
              "1  42.789878  \n",
              "2  56.203927  \n",
              "3  43.796073  \n",
              "4  54.574789  "
            ]
          },
          "execution_count": 59,
          "metadata": {},
          "output_type": "execute_result"
        }
      ],
      "source": [
        "elections.loc[0:4]"
      ]
    },
    {
      "cell_type": "markdown",
      "id": "da5962e4",
      "metadata": {
        "id": "da5962e4"
      },
      "source": [
        "loc is not a function! It's an operator"
      ]
    },
    {
      "cell_type": "code",
      "execution_count": null,
      "id": "75a82801",
      "metadata": {
        "id": "75a82801",
        "outputId": "b697be45-26f6-4b45-8a32-29811906bb48"
      },
      "outputs": [
        {
          "data": {
            "text/html": [
              "<div>\n",
              "<style scoped>\n",
              "    .dataframe tbody tr th:only-of-type {\n",
              "        vertical-align: middle;\n",
              "    }\n",
              "\n",
              "    .dataframe tbody tr th {\n",
              "        vertical-align: top;\n",
              "    }\n",
              "\n",
              "    .dataframe thead th {\n",
              "        text-align: right;\n",
              "    }\n",
              "</style>\n",
              "<table border=\"1\" class=\"dataframe\">\n",
              "  <thead>\n",
              "    <tr style=\"text-align: right;\">\n",
              "      <th></th>\n",
              "      <th>Year</th>\n",
              "      <th>Candidate</th>\n",
              "      <th>Party</th>\n",
              "      <th>Popular vote</th>\n",
              "      <th>Result</th>\n",
              "      <th>%</th>\n",
              "    </tr>\n",
              "  </thead>\n",
              "  <tbody>\n",
              "    <tr>\n",
              "      <th>0</th>\n",
              "      <td>1824</td>\n",
              "      <td>Andrew Jackson</td>\n",
              "      <td>Democratic-Republican</td>\n",
              "      <td>151271</td>\n",
              "      <td>loss</td>\n",
              "      <td>57.210122</td>\n",
              "    </tr>\n",
              "    <tr>\n",
              "      <th>1</th>\n",
              "      <td>1824</td>\n",
              "      <td>John Quincy Adams</td>\n",
              "      <td>Democratic-Republican</td>\n",
              "      <td>113142</td>\n",
              "      <td>win</td>\n",
              "      <td>42.789878</td>\n",
              "    </tr>\n",
              "    <tr>\n",
              "      <th>2</th>\n",
              "      <td>1828</td>\n",
              "      <td>Andrew Jackson</td>\n",
              "      <td>Democratic</td>\n",
              "      <td>642806</td>\n",
              "      <td>win</td>\n",
              "      <td>56.203927</td>\n",
              "    </tr>\n",
              "    <tr>\n",
              "      <th>3</th>\n",
              "      <td>1828</td>\n",
              "      <td>John Quincy Adams</td>\n",
              "      <td>National Republican</td>\n",
              "      <td>500897</td>\n",
              "      <td>loss</td>\n",
              "      <td>43.796073</td>\n",
              "    </tr>\n",
              "    <tr>\n",
              "      <th>4</th>\n",
              "      <td>1832</td>\n",
              "      <td>Andrew Jackson</td>\n",
              "      <td>Democratic</td>\n",
              "      <td>702735</td>\n",
              "      <td>win</td>\n",
              "      <td>54.574789</td>\n",
              "    </tr>\n",
              "  </tbody>\n",
              "</table>\n",
              "</div>"
            ],
            "text/plain": [
              "   Year          Candidate                  Party  Popular vote Result  \\\n",
              "0  1824     Andrew Jackson  Democratic-Republican        151271   loss   \n",
              "1  1824  John Quincy Adams  Democratic-Republican        113142    win   \n",
              "2  1828     Andrew Jackson             Democratic        642806    win   \n",
              "3  1828  John Quincy Adams    National Republican        500897   loss   \n",
              "4  1832     Andrew Jackson             Democratic        702735    win   \n",
              "\n",
              "           %  \n",
              "0  57.210122  \n",
              "1  42.789878  \n",
              "2  56.203927  \n",
              "3  43.796073  \n",
              "4  54.574789  "
            ]
          },
          "execution_count": 60,
          "metadata": {},
          "output_type": "execute_result"
        }
      ],
      "source": [
        "elections.head(5)"
      ]
    },
    {
      "cell_type": "markdown",
      "id": "1798e7b5",
      "metadata": {
        "id": "1798e7b5"
      },
      "source": [
        "Go from \n",
        "**Rows** 0 to 4\n",
        "and\n",
        "**Columns** Year to Party"
      ]
    },
    {
      "cell_type": "code",
      "execution_count": null,
      "id": "6e135eec",
      "metadata": {
        "id": "6e135eec",
        "outputId": "195f9b14-7b7e-4ca0-aefd-2c7da7cbd40b"
      },
      "outputs": [
        {
          "data": {
            "text/html": [
              "<div>\n",
              "<style scoped>\n",
              "    .dataframe tbody tr th:only-of-type {\n",
              "        vertical-align: middle;\n",
              "    }\n",
              "\n",
              "    .dataframe tbody tr th {\n",
              "        vertical-align: top;\n",
              "    }\n",
              "\n",
              "    .dataframe thead th {\n",
              "        text-align: right;\n",
              "    }\n",
              "</style>\n",
              "<table border=\"1\" class=\"dataframe\">\n",
              "  <thead>\n",
              "    <tr style=\"text-align: right;\">\n",
              "      <th></th>\n",
              "      <th>Year</th>\n",
              "      <th>Candidate</th>\n",
              "      <th>Party</th>\n",
              "    </tr>\n",
              "  </thead>\n",
              "  <tbody>\n",
              "    <tr>\n",
              "      <th>0</th>\n",
              "      <td>1824</td>\n",
              "      <td>Andrew Jackson</td>\n",
              "      <td>Democratic-Republican</td>\n",
              "    </tr>\n",
              "    <tr>\n",
              "      <th>1</th>\n",
              "      <td>1824</td>\n",
              "      <td>John Quincy Adams</td>\n",
              "      <td>Democratic-Republican</td>\n",
              "    </tr>\n",
              "    <tr>\n",
              "      <th>2</th>\n",
              "      <td>1828</td>\n",
              "      <td>Andrew Jackson</td>\n",
              "      <td>Democratic</td>\n",
              "    </tr>\n",
              "    <tr>\n",
              "      <th>3</th>\n",
              "      <td>1828</td>\n",
              "      <td>John Quincy Adams</td>\n",
              "      <td>National Republican</td>\n",
              "    </tr>\n",
              "    <tr>\n",
              "      <th>4</th>\n",
              "      <td>1832</td>\n",
              "      <td>Andrew Jackson</td>\n",
              "      <td>Democratic</td>\n",
              "    </tr>\n",
              "  </tbody>\n",
              "</table>\n",
              "</div>"
            ],
            "text/plain": [
              "   Year          Candidate                  Party\n",
              "0  1824     Andrew Jackson  Democratic-Republican\n",
              "1  1824  John Quincy Adams  Democratic-Republican\n",
              "2  1828     Andrew Jackson             Democratic\n",
              "3  1828  John Quincy Adams    National Republican\n",
              "4  1832     Andrew Jackson             Democratic"
            ]
          },
          "execution_count": 61,
          "metadata": {},
          "output_type": "execute_result"
        }
      ],
      "source": [
        "elections.loc[0:4, \"Year\":\"Party\"]"
      ]
    },
    {
      "cell_type": "markdown",
      "id": "066aa6e8",
      "metadata": {
        "id": "066aa6e8"
      },
      "source": [
        "**loc selects items by label**"
      ]
    },
    {
      "cell_type": "markdown",
      "id": "99f60df0",
      "metadata": {
        "id": "99f60df0"
      },
      "source": [
        "Arguments can be \n",
        "a list, a slice, a single value"
      ]
    },
    {
      "cell_type": "code",
      "execution_count": null,
      "id": "4f7098a5",
      "metadata": {
        "id": "4f7098a5",
        "outputId": "7182d933-6e6c-4e87-f12d-5c85c7ec911e"
      },
      "outputs": [
        {
          "data": {
            "text/html": [
              "<div>\n",
              "<style scoped>\n",
              "    .dataframe tbody tr th:only-of-type {\n",
              "        vertical-align: middle;\n",
              "    }\n",
              "\n",
              "    .dataframe tbody tr th {\n",
              "        vertical-align: top;\n",
              "    }\n",
              "\n",
              "    .dataframe thead th {\n",
              "        text-align: right;\n",
              "    }\n",
              "</style>\n",
              "<table border=\"1\" class=\"dataframe\">\n",
              "  <thead>\n",
              "    <tr style=\"text-align: right;\">\n",
              "      <th></th>\n",
              "      <th>Year</th>\n",
              "      <th>Candidate</th>\n",
              "      <th>Result</th>\n",
              "    </tr>\n",
              "  </thead>\n",
              "  <tbody>\n",
              "    <tr>\n",
              "      <th>87</th>\n",
              "      <td>1932</td>\n",
              "      <td>Herbert Hoover</td>\n",
              "      <td>loss</td>\n",
              "    </tr>\n",
              "    <tr>\n",
              "      <th>25</th>\n",
              "      <td>1860</td>\n",
              "      <td>John C. Breckinridge</td>\n",
              "      <td>loss</td>\n",
              "    </tr>\n",
              "    <tr>\n",
              "      <th>179</th>\n",
              "      <td>2020</td>\n",
              "      <td>Donald Trump</td>\n",
              "      <td>loss</td>\n",
              "    </tr>\n",
              "  </tbody>\n",
              "</table>\n",
              "</div>"
            ],
            "text/plain": [
              "     Year             Candidate Result\n",
              "87   1932        Herbert Hoover   loss\n",
              "25   1860  John C. Breckinridge   loss\n",
              "179  2020          Donald Trump   loss"
            ]
          },
          "execution_count": 62,
          "metadata": {},
          "output_type": "execute_result"
        }
      ],
      "source": [
        "#list\n",
        "elections.loc[[87, 25, 179], [\"Year\", \"Candidate\", \"Result\"]]"
      ]
    },
    {
      "cell_type": "code",
      "execution_count": null,
      "id": "dc625664",
      "metadata": {
        "id": "dc625664",
        "outputId": "6bbdd6b6-8192-4cd8-9006-5ce6ecdf8dd9"
      },
      "outputs": [
        {
          "data": {
            "text/html": [
              "<div>\n",
              "<style scoped>\n",
              "    .dataframe tbody tr th:only-of-type {\n",
              "        vertical-align: middle;\n",
              "    }\n",
              "\n",
              "    .dataframe tbody tr th {\n",
              "        vertical-align: top;\n",
              "    }\n",
              "\n",
              "    .dataframe thead th {\n",
              "        text-align: right;\n",
              "    }\n",
              "</style>\n",
              "<table border=\"1\" class=\"dataframe\">\n",
              "  <thead>\n",
              "    <tr style=\"text-align: right;\">\n",
              "      <th></th>\n",
              "      <th>Popular vote</th>\n",
              "      <th>Result</th>\n",
              "      <th>%</th>\n",
              "    </tr>\n",
              "  </thead>\n",
              "  <tbody>\n",
              "    <tr>\n",
              "      <th>87</th>\n",
              "      <td>15761254</td>\n",
              "      <td>loss</td>\n",
              "      <td>39.830594</td>\n",
              "    </tr>\n",
              "    <tr>\n",
              "      <th>25</th>\n",
              "      <td>848019</td>\n",
              "      <td>loss</td>\n",
              "      <td>18.138998</td>\n",
              "    </tr>\n",
              "    <tr>\n",
              "      <th>179</th>\n",
              "      <td>74216154</td>\n",
              "      <td>loss</td>\n",
              "      <td>46.858542</td>\n",
              "    </tr>\n",
              "  </tbody>\n",
              "</table>\n",
              "</div>"
            ],
            "text/plain": [
              "     Popular vote Result          %\n",
              "87       15761254   loss  39.830594\n",
              "25         848019   loss  18.138998\n",
              "179      74216154   loss  46.858542"
            ]
          },
          "execution_count": 63,
          "metadata": {},
          "output_type": "execute_result"
        }
      ],
      "source": [
        "#slice\n",
        "elections.loc[[87, 25, 179], \"Popular vote\":\"%\"]"
      ]
    },
    {
      "cell_type": "code",
      "execution_count": null,
      "id": "5d226d75",
      "metadata": {
        "id": "5d226d75",
        "outputId": "38d9026d-be8b-4232-cc86-6c168fce4f8d"
      },
      "outputs": [
        {
          "data": {
            "text/plain": [
              "87     15761254\n",
              "25       848019\n",
              "179    74216154\n",
              "Name: Popular vote, dtype: int64"
            ]
          },
          "execution_count": 64,
          "metadata": {},
          "output_type": "execute_result"
        }
      ],
      "source": [
        "#single value\n",
        "elections.loc[[87, 25, 179], \"Popular vote\"]"
      ]
    },
    {
      "cell_type": "code",
      "execution_count": null,
      "id": "4e1586ea",
      "metadata": {
        "id": "4e1586ea",
        "outputId": "ceb483d5-8b70-41d2-b5c1-ef93475f2d77"
      },
      "outputs": [
        {
          "data": {
            "text/html": [
              "<div>\n",
              "<style scoped>\n",
              "    .dataframe tbody tr th:only-of-type {\n",
              "        vertical-align: middle;\n",
              "    }\n",
              "\n",
              "    .dataframe tbody tr th {\n",
              "        vertical-align: top;\n",
              "    }\n",
              "\n",
              "    .dataframe thead th {\n",
              "        text-align: right;\n",
              "    }\n",
              "</style>\n",
              "<table border=\"1\" class=\"dataframe\">\n",
              "  <thead>\n",
              "    <tr style=\"text-align: right;\">\n",
              "      <th></th>\n",
              "      <th>Year</th>\n",
              "      <th>Candidate</th>\n",
              "      <th>Result</th>\n",
              "    </tr>\n",
              "  </thead>\n",
              "  <tbody>\n",
              "    <tr>\n",
              "      <th>0</th>\n",
              "      <td>1824</td>\n",
              "      <td>Andrew Jackson</td>\n",
              "      <td>loss</td>\n",
              "    </tr>\n",
              "    <tr>\n",
              "      <th>1</th>\n",
              "      <td>1824</td>\n",
              "      <td>John Quincy Adams</td>\n",
              "      <td>win</td>\n",
              "    </tr>\n",
              "    <tr>\n",
              "      <th>2</th>\n",
              "      <td>1828</td>\n",
              "      <td>Andrew Jackson</td>\n",
              "      <td>win</td>\n",
              "    </tr>\n",
              "    <tr>\n",
              "      <th>3</th>\n",
              "      <td>1828</td>\n",
              "      <td>John Quincy Adams</td>\n",
              "      <td>loss</td>\n",
              "    </tr>\n",
              "    <tr>\n",
              "      <th>4</th>\n",
              "      <td>1832</td>\n",
              "      <td>Andrew Jackson</td>\n",
              "      <td>win</td>\n",
              "    </tr>\n",
              "    <tr>\n",
              "      <th>...</th>\n",
              "      <td>...</td>\n",
              "      <td>...</td>\n",
              "      <td>...</td>\n",
              "    </tr>\n",
              "    <tr>\n",
              "      <th>177</th>\n",
              "      <td>2016</td>\n",
              "      <td>Jill Stein</td>\n",
              "      <td>loss</td>\n",
              "    </tr>\n",
              "    <tr>\n",
              "      <th>178</th>\n",
              "      <td>2020</td>\n",
              "      <td>Joseph Biden</td>\n",
              "      <td>win</td>\n",
              "    </tr>\n",
              "    <tr>\n",
              "      <th>179</th>\n",
              "      <td>2020</td>\n",
              "      <td>Donald Trump</td>\n",
              "      <td>loss</td>\n",
              "    </tr>\n",
              "    <tr>\n",
              "      <th>180</th>\n",
              "      <td>2020</td>\n",
              "      <td>Jo Jorgensen</td>\n",
              "      <td>loss</td>\n",
              "    </tr>\n",
              "    <tr>\n",
              "      <th>181</th>\n",
              "      <td>2020</td>\n",
              "      <td>Howard Hawkins</td>\n",
              "      <td>loss</td>\n",
              "    </tr>\n",
              "  </tbody>\n",
              "</table>\n",
              "<p>182 rows × 3 columns</p>\n",
              "</div>"
            ],
            "text/plain": [
              "     Year          Candidate Result\n",
              "0    1824     Andrew Jackson   loss\n",
              "1    1824  John Quincy Adams    win\n",
              "2    1828     Andrew Jackson    win\n",
              "3    1828  John Quincy Adams   loss\n",
              "4    1832     Andrew Jackson    win\n",
              "..    ...                ...    ...\n",
              "177  2016         Jill Stein   loss\n",
              "178  2020       Joseph Biden    win\n",
              "179  2020       Donald Trump   loss\n",
              "180  2020       Jo Jorgensen   loss\n",
              "181  2020     Howard Hawkins   loss\n",
              "\n",
              "[182 rows x 3 columns]"
            ]
          },
          "execution_count": 65,
          "metadata": {},
          "output_type": "execute_result"
        }
      ],
      "source": [
        "#all columns\n",
        "elections.loc[:, [\"Year\", \"Candidate\", \"Result\"]]"
      ]
    },
    {
      "cell_type": "markdown",
      "id": "0cf4df04",
      "metadata": {
        "id": "0cf4df04"
      },
      "source": [
        "### iloc"
      ]
    },
    {
      "cell_type": "markdown",
      "id": "b879d86e",
      "metadata": {
        "id": "b879d86e"
      },
      "source": [
        "Selects items by number\n",
        "\n",
        "Arguments can be \n",
        "a list, a slice, a single value"
      ]
    },
    {
      "cell_type": "code",
      "execution_count": null,
      "id": "515c80c7",
      "metadata": {
        "id": "515c80c7",
        "outputId": "af8cca65-5177-4609-c4b5-d4204b608af7"
      },
      "outputs": [
        {
          "data": {
            "text/html": [
              "<div>\n",
              "<style scoped>\n",
              "    .dataframe tbody tr th:only-of-type {\n",
              "        vertical-align: middle;\n",
              "    }\n",
              "\n",
              "    .dataframe tbody tr th {\n",
              "        vertical-align: top;\n",
              "    }\n",
              "\n",
              "    .dataframe thead th {\n",
              "        text-align: right;\n",
              "    }\n",
              "</style>\n",
              "<table border=\"1\" class=\"dataframe\">\n",
              "  <thead>\n",
              "    <tr style=\"text-align: right;\">\n",
              "      <th></th>\n",
              "      <th>Year</th>\n",
              "      <th>Candidate</th>\n",
              "    </tr>\n",
              "  </thead>\n",
              "  <tbody>\n",
              "    <tr>\n",
              "      <th>1</th>\n",
              "      <td>1824</td>\n",
              "      <td>John Quincy Adams</td>\n",
              "    </tr>\n",
              "    <tr>\n",
              "      <th>2</th>\n",
              "      <td>1828</td>\n",
              "      <td>Andrew Jackson</td>\n",
              "    </tr>\n",
              "    <tr>\n",
              "      <th>3</th>\n",
              "      <td>1828</td>\n",
              "      <td>John Quincy Adams</td>\n",
              "    </tr>\n",
              "    <tr>\n",
              "      <th>4</th>\n",
              "      <td>1832</td>\n",
              "      <td>Andrew Jackson</td>\n",
              "    </tr>\n",
              "  </tbody>\n",
              "</table>\n",
              "</div>"
            ],
            "text/plain": [
              "   Year          Candidate\n",
              "1  1824  John Quincy Adams\n",
              "2  1828     Andrew Jackson\n",
              "3  1828  John Quincy Adams\n",
              "4  1832     Andrew Jackson"
            ]
          },
          "execution_count": 66,
          "metadata": {},
          "output_type": "execute_result"
        }
      ],
      "source": [
        "#Note the index\n",
        "elections.iloc[[1, 2, 3, 4], 0:2]"
      ]
    },
    {
      "cell_type": "code",
      "execution_count": null,
      "id": "b0f6c6b5",
      "metadata": {
        "id": "b0f6c6b5",
        "outputId": "b3558a89-c5d8-42d1-bfb3-471eb7b08425"
      },
      "outputs": [
        {
          "data": {
            "text/html": [
              "<div>\n",
              "<style scoped>\n",
              "    .dataframe tbody tr th:only-of-type {\n",
              "        vertical-align: middle;\n",
              "    }\n",
              "\n",
              "    .dataframe tbody tr th {\n",
              "        vertical-align: top;\n",
              "    }\n",
              "\n",
              "    .dataframe thead th {\n",
              "        text-align: right;\n",
              "    }\n",
              "</style>\n",
              "<table border=\"1\" class=\"dataframe\">\n",
              "  <thead>\n",
              "    <tr style=\"text-align: right;\">\n",
              "      <th></th>\n",
              "      <th>Year</th>\n",
              "      <th>Candidate</th>\n",
              "      <th>Party</th>\n",
              "    </tr>\n",
              "  </thead>\n",
              "  <tbody>\n",
              "    <tr>\n",
              "      <th>1</th>\n",
              "      <td>1824</td>\n",
              "      <td>John Quincy Adams</td>\n",
              "      <td>Democratic-Republican</td>\n",
              "    </tr>\n",
              "    <tr>\n",
              "      <th>2</th>\n",
              "      <td>1828</td>\n",
              "      <td>Andrew Jackson</td>\n",
              "      <td>Democratic</td>\n",
              "    </tr>\n",
              "    <tr>\n",
              "      <th>3</th>\n",
              "      <td>1828</td>\n",
              "      <td>John Quincy Adams</td>\n",
              "      <td>National Republican</td>\n",
              "    </tr>\n",
              "  </tbody>\n",
              "</table>\n",
              "</div>"
            ],
            "text/plain": [
              "   Year          Candidate                  Party\n",
              "1  1824  John Quincy Adams  Democratic-Republican\n",
              "2  1828     Andrew Jackson             Democratic\n",
              "3  1828  John Quincy Adams    National Republican"
            ]
          },
          "execution_count": 67,
          "metadata": {},
          "output_type": "execute_result"
        }
      ],
      "source": [
        "elections.iloc[[1, 2, 3], [0, 1, 2]]"
      ]
    },
    {
      "cell_type": "code",
      "execution_count": null,
      "id": "a4814ce8",
      "metadata": {
        "id": "a4814ce8",
        "outputId": "ecffb0d3-ad51-449b-9ad4-10632ff3cb05"
      },
      "outputs": [
        {
          "data": {
            "text/plain": [
              "1    John Quincy Adams\n",
              "2       Andrew Jackson\n",
              "3    John Quincy Adams\n",
              "4       Andrew Jackson\n",
              "Name: Candidate, dtype: object"
            ]
          },
          "execution_count": 68,
          "metadata": {},
          "output_type": "execute_result"
        }
      ],
      "source": [
        "elections.iloc[[1, 2, 3, 4], 1]"
      ]
    },
    {
      "cell_type": "markdown",
      "id": "49b9df9a",
      "metadata": {
        "id": "49b9df9a"
      },
      "source": [
        "Usually, loc is preffered\n",
        "\n",
        "iloc can still be useful\n",
        "\n",
        "If you have a DataFrame of movies earnings sorted by earnings, can use iloc to getthe median earnings for a given year (index to the middle)"
      ]
    },
    {
      "cell_type": "markdown",
      "id": "102451d9",
      "metadata": {
        "id": "102451d9"
      },
      "source": [
        "### **[]** is context sensitive"
      ]
    },
    {
      "cell_type": "code",
      "execution_count": null,
      "id": "d1196fd5",
      "metadata": {
        "id": "d1196fd5",
        "outputId": "7da8004e-6d9d-4276-c6bd-f8ce26b323d9"
      },
      "outputs": [
        {
          "data": {
            "text/html": [
              "<div>\n",
              "<style scoped>\n",
              "    .dataframe tbody tr th:only-of-type {\n",
              "        vertical-align: middle;\n",
              "    }\n",
              "\n",
              "    .dataframe tbody tr th {\n",
              "        vertical-align: top;\n",
              "    }\n",
              "\n",
              "    .dataframe thead th {\n",
              "        text-align: right;\n",
              "    }\n",
              "</style>\n",
              "<table border=\"1\" class=\"dataframe\">\n",
              "  <thead>\n",
              "    <tr style=\"text-align: right;\">\n",
              "      <th></th>\n",
              "      <th>Year</th>\n",
              "      <th>Candidate</th>\n",
              "      <th>Party</th>\n",
              "      <th>Popular vote</th>\n",
              "      <th>Result</th>\n",
              "      <th>%</th>\n",
              "    </tr>\n",
              "  </thead>\n",
              "  <tbody>\n",
              "    <tr>\n",
              "      <th>3</th>\n",
              "      <td>1828</td>\n",
              "      <td>John Quincy Adams</td>\n",
              "      <td>National Republican</td>\n",
              "      <td>500897</td>\n",
              "      <td>loss</td>\n",
              "      <td>43.796073</td>\n",
              "    </tr>\n",
              "    <tr>\n",
              "      <th>4</th>\n",
              "      <td>1832</td>\n",
              "      <td>Andrew Jackson</td>\n",
              "      <td>Democratic</td>\n",
              "      <td>702735</td>\n",
              "      <td>win</td>\n",
              "      <td>54.574789</td>\n",
              "    </tr>\n",
              "    <tr>\n",
              "      <th>5</th>\n",
              "      <td>1832</td>\n",
              "      <td>Henry Clay</td>\n",
              "      <td>National Republican</td>\n",
              "      <td>484205</td>\n",
              "      <td>loss</td>\n",
              "      <td>37.603628</td>\n",
              "    </tr>\n",
              "    <tr>\n",
              "      <th>6</th>\n",
              "      <td>1832</td>\n",
              "      <td>William Wirt</td>\n",
              "      <td>Anti-Masonic</td>\n",
              "      <td>100715</td>\n",
              "      <td>loss</td>\n",
              "      <td>7.821583</td>\n",
              "    </tr>\n",
              "  </tbody>\n",
              "</table>\n",
              "</div>"
            ],
            "text/plain": [
              "   Year          Candidate                Party  Popular vote Result  \\\n",
              "3  1828  John Quincy Adams  National Republican        500897   loss   \n",
              "4  1832     Andrew Jackson           Democratic        702735    win   \n",
              "5  1832         Henry Clay  National Republican        484205   loss   \n",
              "6  1832       William Wirt         Anti-Masonic        100715   loss   \n",
              "\n",
              "           %  \n",
              "3  43.796073  \n",
              "4  54.574789  \n",
              "5  37.603628  \n",
              "6   7.821583  "
            ]
          },
          "execution_count": 69,
          "metadata": {},
          "output_type": "execute_result"
        }
      ],
      "source": [
        "elections[3:7]"
      ]
    },
    {
      "cell_type": "code",
      "execution_count": null,
      "id": "47e519e8",
      "metadata": {
        "id": "47e519e8",
        "outputId": "fdc4bc29-93b5-45ca-e699-862ba769e3c4"
      },
      "outputs": [
        {
          "data": {
            "text/html": [
              "<div>\n",
              "<style scoped>\n",
              "    .dataframe tbody tr th:only-of-type {\n",
              "        vertical-align: middle;\n",
              "    }\n",
              "\n",
              "    .dataframe tbody tr th {\n",
              "        vertical-align: top;\n",
              "    }\n",
              "\n",
              "    .dataframe thead th {\n",
              "        text-align: right;\n",
              "    }\n",
              "</style>\n",
              "<table border=\"1\" class=\"dataframe\">\n",
              "  <thead>\n",
              "    <tr style=\"text-align: right;\">\n",
              "      <th></th>\n",
              "      <th>Year</th>\n",
              "      <th>Candidate</th>\n",
              "      <th>Result</th>\n",
              "    </tr>\n",
              "  </thead>\n",
              "  <tbody>\n",
              "    <tr>\n",
              "      <th>177</th>\n",
              "      <td>2016</td>\n",
              "      <td>Jill Stein</td>\n",
              "      <td>loss</td>\n",
              "    </tr>\n",
              "    <tr>\n",
              "      <th>178</th>\n",
              "      <td>2020</td>\n",
              "      <td>Joseph Biden</td>\n",
              "      <td>win</td>\n",
              "    </tr>\n",
              "    <tr>\n",
              "      <th>179</th>\n",
              "      <td>2020</td>\n",
              "      <td>Donald Trump</td>\n",
              "      <td>loss</td>\n",
              "    </tr>\n",
              "    <tr>\n",
              "      <th>180</th>\n",
              "      <td>2020</td>\n",
              "      <td>Jo Jorgensen</td>\n",
              "      <td>loss</td>\n",
              "    </tr>\n",
              "    <tr>\n",
              "      <th>181</th>\n",
              "      <td>2020</td>\n",
              "      <td>Howard Hawkins</td>\n",
              "      <td>loss</td>\n",
              "    </tr>\n",
              "  </tbody>\n",
              "</table>\n",
              "</div>"
            ],
            "text/plain": [
              "     Year       Candidate Result\n",
              "177  2016      Jill Stein   loss\n",
              "178  2020    Joseph Biden    win\n",
              "179  2020    Donald Trump   loss\n",
              "180  2020    Jo Jorgensen   loss\n",
              "181  2020  Howard Hawkins   loss"
            ]
          },
          "execution_count": 70,
          "metadata": {},
          "output_type": "execute_result"
        }
      ],
      "source": [
        "elections[[\"Year\", \"Candidate\", \"Result\"]].tail(5)"
      ]
    },
    {
      "cell_type": "code",
      "execution_count": null,
      "id": "c6d699b8",
      "metadata": {
        "id": "c6d699b8",
        "outputId": "b92319bf-792c-4a91-c99c-a2dd969d6a9f"
      },
      "outputs": [
        {
          "data": {
            "text/plain": [
              "177        Jill Stein\n",
              "178      Joseph Biden\n",
              "179      Donald Trump\n",
              "180      Jo Jorgensen\n",
              "181    Howard Hawkins\n",
              "Name: Candidate, dtype: object"
            ]
          },
          "execution_count": 71,
          "metadata": {},
          "output_type": "execute_result"
        }
      ],
      "source": [
        "elections[\"Candidate\"].tail(5)"
      ]
    },
    {
      "cell_type": "markdown",
      "id": "c5c62bfd",
      "metadata": {
        "id": "c5c62bfd"
      },
      "source": [
        "============================================\n",
        "### Annoying Puzzle to Test Knowledge"
      ]
    },
    {
      "cell_type": "code",
      "execution_count": null,
      "id": "6ed59fca",
      "metadata": {
        "id": "6ed59fca",
        "outputId": "16decd4c-5c24-48e7-f5c0-0c54cf2268ac"
      },
      "outputs": [
        {
          "data": {
            "text/html": [
              "<div>\n",
              "<style scoped>\n",
              "    .dataframe tbody tr th:only-of-type {\n",
              "        vertical-align: middle;\n",
              "    }\n",
              "\n",
              "    .dataframe tbody tr th {\n",
              "        vertical-align: top;\n",
              "    }\n",
              "\n",
              "    .dataframe thead th {\n",
              "        text-align: right;\n",
              "    }\n",
              "</style>\n",
              "<table border=\"1\" class=\"dataframe\">\n",
              "  <thead>\n",
              "    <tr style=\"text-align: right;\">\n",
              "      <th></th>\n",
              "      <th>1</th>\n",
              "      <th>1</th>\n",
              "    </tr>\n",
              "  </thead>\n",
              "  <tbody>\n",
              "    <tr>\n",
              "      <th>0</th>\n",
              "      <td>topdog</td>\n",
              "      <td>topcat</td>\n",
              "    </tr>\n",
              "    <tr>\n",
              "      <th>1</th>\n",
              "      <td>botdog</td>\n",
              "      <td>botcat</td>\n",
              "    </tr>\n",
              "  </tbody>\n",
              "</table>\n",
              "</div>"
            ],
            "text/plain": [
              "        1       1\n",
              "0  topdog  topcat\n",
              "1  botdog  botcat"
            ]
          },
          "execution_count": 72,
          "metadata": {},
          "output_type": "execute_result"
        }
      ],
      "source": [
        "weird = pd.DataFrame({1:[\"topdog\", \"botdog\"], \"1\":[\"topcat\", \"botcat\"]})\n",
        "weird"
      ]
    },
    {
      "cell_type": "code",
      "execution_count": null,
      "id": "3d80bb35",
      "metadata": {
        "id": "3d80bb35",
        "outputId": "c237356b-a58f-4cf1-ed29-9398bb1bbc85"
      },
      "outputs": [
        {
          "data": {
            "text/plain": [
              "0    topdog\n",
              "1    botdog\n",
              "Name: 1, dtype: object"
            ]
          },
          "execution_count": 73,
          "metadata": {},
          "output_type": "execute_result"
        }
      ],
      "source": [
        "weird[1]"
      ]
    },
    {
      "cell_type": "code",
      "execution_count": null,
      "id": "eeb59a23",
      "metadata": {
        "id": "eeb59a23",
        "outputId": "c42fda68-9ddc-4d57-e5af-76e935c6888c"
      },
      "outputs": [
        {
          "data": {
            "text/plain": [
              "0    topcat\n",
              "1    botcat\n",
              "Name: 1, dtype: object"
            ]
          },
          "execution_count": 74,
          "metadata": {},
          "output_type": "execute_result"
        }
      ],
      "source": [
        "weird[\"1\"]"
      ]
    },
    {
      "cell_type": "code",
      "execution_count": null,
      "id": "1f9face0",
      "metadata": {
        "id": "1f9face0",
        "outputId": "9820e70d-7629-45cd-d179-e23ff117a902"
      },
      "outputs": [
        {
          "data": {
            "text/html": [
              "<div>\n",
              "<style scoped>\n",
              "    .dataframe tbody tr th:only-of-type {\n",
              "        vertical-align: middle;\n",
              "    }\n",
              "\n",
              "    .dataframe tbody tr th {\n",
              "        vertical-align: top;\n",
              "    }\n",
              "\n",
              "    .dataframe thead th {\n",
              "        text-align: right;\n",
              "    }\n",
              "</style>\n",
              "<table border=\"1\" class=\"dataframe\">\n",
              "  <thead>\n",
              "    <tr style=\"text-align: right;\">\n",
              "      <th></th>\n",
              "      <th>1</th>\n",
              "      <th>1</th>\n",
              "    </tr>\n",
              "  </thead>\n",
              "  <tbody>\n",
              "    <tr>\n",
              "      <th>1</th>\n",
              "      <td>botdog</td>\n",
              "      <td>botcat</td>\n",
              "    </tr>\n",
              "  </tbody>\n",
              "</table>\n",
              "</div>"
            ],
            "text/plain": [
              "        1       1\n",
              "1  botdog  botcat"
            ]
          },
          "execution_count": 75,
          "metadata": {},
          "output_type": "execute_result"
        }
      ],
      "source": [
        "weird[1:]"
      ]
    },
    {
      "cell_type": "markdown",
      "id": "7b6c388c",
      "metadata": {
        "id": "7b6c388c"
      },
      "source": [
        "===================================================="
      ]
    },
    {
      "cell_type": "markdown",
      "id": "aef5b3e2",
      "metadata": {
        "id": "aef5b3e2"
      },
      "source": [
        "### DataFrames, Series and Indices"
      ]
    },
    {
      "cell_type": "code",
      "execution_count": null,
      "id": "fb9643d9",
      "metadata": {
        "id": "fb9643d9",
        "outputId": "c838c475-e516-43de-b462-5621b5a0b4e7"
      },
      "outputs": [
        {
          "data": {
            "text/plain": [
              "pandas.core.frame.DataFrame"
            ]
          },
          "execution_count": 76,
          "metadata": {},
          "output_type": "execute_result"
        }
      ],
      "source": [
        "type(elections)"
      ]
    },
    {
      "cell_type": "code",
      "execution_count": null,
      "id": "5d4cff0f",
      "metadata": {
        "id": "5d4cff0f",
        "outputId": "38f4b3fa-7bcd-41e0-cf56-fb97e86729dc"
      },
      "outputs": [
        {
          "data": {
            "text/plain": [
              "pandas.core.series.Series"
            ]
          },
          "execution_count": 77,
          "metadata": {},
          "output_type": "execute_result"
        }
      ],
      "source": [
        "type(elections[\"Candidate\"])"
      ]
    },
    {
      "cell_type": "markdown",
      "id": "a85b057a",
      "metadata": {
        "id": "a85b057a"
      },
      "source": [
        "Indices are in the left column | They can be non-unique"
      ]
    },
    {
      "cell_type": "markdown",
      "id": "546367eb",
      "metadata": {
        "id": "546367eb"
      },
      "source": [
        "Column Labels must be Unique\n",
        "### Using a column as a set of indices"
      ]
    },
    {
      "cell_type": "code",
      "execution_count": null,
      "id": "cc284426",
      "metadata": {
        "id": "cc284426",
        "outputId": "26666ae9-b6f5-4e1e-c131-8934160d92c8"
      },
      "outputs": [
        {
          "data": {
            "text/html": [
              "<div>\n",
              "<style scoped>\n",
              "    .dataframe tbody tr th:only-of-type {\n",
              "        vertical-align: middle;\n",
              "    }\n",
              "\n",
              "    .dataframe tbody tr th {\n",
              "        vertical-align: top;\n",
              "    }\n",
              "\n",
              "    .dataframe thead th {\n",
              "        text-align: right;\n",
              "    }\n",
              "</style>\n",
              "<table border=\"1\" class=\"dataframe\">\n",
              "  <thead>\n",
              "    <tr style=\"text-align: right;\">\n",
              "      <th></th>\n",
              "      <th>Motto</th>\n",
              "      <th>Translation</th>\n",
              "      <th>Language</th>\n",
              "      <th>Date Adopted</th>\n",
              "    </tr>\n",
              "    <tr>\n",
              "      <th>State</th>\n",
              "      <th></th>\n",
              "      <th></th>\n",
              "      <th></th>\n",
              "      <th></th>\n",
              "    </tr>\n",
              "  </thead>\n",
              "  <tbody>\n",
              "    <tr>\n",
              "      <th>Alabama</th>\n",
              "      <td>Audemus jura nostra defendere</td>\n",
              "      <td>We dare defend our rights!</td>\n",
              "      <td>Latin</td>\n",
              "      <td>1923</td>\n",
              "    </tr>\n",
              "    <tr>\n",
              "      <th>Alaska</th>\n",
              "      <td>North to the future</td>\n",
              "      <td>—</td>\n",
              "      <td>English</td>\n",
              "      <td>1967</td>\n",
              "    </tr>\n",
              "    <tr>\n",
              "      <th>Arizona</th>\n",
              "      <td>Ditat Deus</td>\n",
              "      <td>God enriches</td>\n",
              "      <td>Latin</td>\n",
              "      <td>1863</td>\n",
              "    </tr>\n",
              "    <tr>\n",
              "      <th>Arkansas</th>\n",
              "      <td>Regnat populus</td>\n",
              "      <td>The people rule</td>\n",
              "      <td>Latin</td>\n",
              "      <td>1907</td>\n",
              "    </tr>\n",
              "    <tr>\n",
              "      <th>California</th>\n",
              "      <td>Eureka (Εὕρηκα)</td>\n",
              "      <td>I have found it</td>\n",
              "      <td>Greek</td>\n",
              "      <td>1849</td>\n",
              "    </tr>\n",
              "    <tr>\n",
              "      <th>Colorado</th>\n",
              "      <td>Nil sine numine</td>\n",
              "      <td>Nothing without providence.</td>\n",
              "      <td>Latin</td>\n",
              "      <td>November 6, 1861</td>\n",
              "    </tr>\n",
              "    <tr>\n",
              "      <th>Connecticut</th>\n",
              "      <td>Qui transtulit sustinet</td>\n",
              "      <td>He who transplanted sustains</td>\n",
              "      <td>Latin</td>\n",
              "      <td>October 9, 1662</td>\n",
              "    </tr>\n",
              "    <tr>\n",
              "      <th>Delaware</th>\n",
              "      <td>Liberty and Independence</td>\n",
              "      <td>—</td>\n",
              "      <td>English</td>\n",
              "      <td>1847</td>\n",
              "    </tr>\n",
              "    <tr>\n",
              "      <th>Florida</th>\n",
              "      <td>In God We Trust</td>\n",
              "      <td>—</td>\n",
              "      <td>English</td>\n",
              "      <td>1868</td>\n",
              "    </tr>\n",
              "    <tr>\n",
              "      <th>Georgia</th>\n",
              "      <td>Wisdom, Justice, Moderation</td>\n",
              "      <td>—</td>\n",
              "      <td>English</td>\n",
              "      <td>1798</td>\n",
              "    </tr>\n",
              "    <tr>\n",
              "      <th>Hawaii</th>\n",
              "      <td>Ua mau ke ea o ka ʻāina i ka pono</td>\n",
              "      <td>The life of the land is perpetuated in righteo...</td>\n",
              "      <td>Hawaiian</td>\n",
              "      <td>July 31, 1843</td>\n",
              "    </tr>\n",
              "    <tr>\n",
              "      <th>Idaho</th>\n",
              "      <td>Esto perpetua</td>\n",
              "      <td>Let it be perpetual</td>\n",
              "      <td>Latin</td>\n",
              "      <td>1890</td>\n",
              "    </tr>\n",
              "    <tr>\n",
              "      <th>Illinois</th>\n",
              "      <td>State sovereignty, national union</td>\n",
              "      <td>—</td>\n",
              "      <td>English</td>\n",
              "      <td>1819</td>\n",
              "    </tr>\n",
              "    <tr>\n",
              "      <th>Indiana</th>\n",
              "      <td>The Crossroads of America</td>\n",
              "      <td>—</td>\n",
              "      <td>English</td>\n",
              "      <td>1937</td>\n",
              "    </tr>\n",
              "    <tr>\n",
              "      <th>Iowa</th>\n",
              "      <td>Our liberties we prize and our rights we will ...</td>\n",
              "      <td>—</td>\n",
              "      <td>English</td>\n",
              "      <td>1847</td>\n",
              "    </tr>\n",
              "    <tr>\n",
              "      <th>Kansas</th>\n",
              "      <td>Ad astra per aspera</td>\n",
              "      <td>To the stars through difficulties</td>\n",
              "      <td>Latin</td>\n",
              "      <td>1861</td>\n",
              "    </tr>\n",
              "    <tr>\n",
              "      <th>Kentucky</th>\n",
              "      <td>Deo gratiam habeamus</td>\n",
              "      <td>Let us be grateful to God</td>\n",
              "      <td>Latin</td>\n",
              "      <td>2002</td>\n",
              "    </tr>\n",
              "    <tr>\n",
              "      <th>Louisiana</th>\n",
              "      <td>Union, justice, confidence</td>\n",
              "      <td>—</td>\n",
              "      <td>English</td>\n",
              "      <td>1902</td>\n",
              "    </tr>\n",
              "    <tr>\n",
              "      <th>Maine</th>\n",
              "      <td>Dirigo</td>\n",
              "      <td>I lead</td>\n",
              "      <td>Latin</td>\n",
              "      <td>1820</td>\n",
              "    </tr>\n",
              "    <tr>\n",
              "      <th>Maryland</th>\n",
              "      <td>Fatti maschii, parole femine</td>\n",
              "      <td>Manly deeds, womanly words</td>\n",
              "      <td>Italian</td>\n",
              "      <td>1874</td>\n",
              "    </tr>\n",
              "    <tr>\n",
              "      <th>Massachusetts</th>\n",
              "      <td>Ense petit placidam sub libertate quietem</td>\n",
              "      <td>By the sword we seek peace, but peace only und...</td>\n",
              "      <td>Latin</td>\n",
              "      <td>1775</td>\n",
              "    </tr>\n",
              "    <tr>\n",
              "      <th>Michigan</th>\n",
              "      <td>Si quaeris peninsulam amoenam circumspice</td>\n",
              "      <td>If you seek a pleasant peninsula, look about you</td>\n",
              "      <td>Latin</td>\n",
              "      <td>June 2, 1835</td>\n",
              "    </tr>\n",
              "    <tr>\n",
              "      <th>Minnesota</th>\n",
              "      <td>L'étoile du Nord</td>\n",
              "      <td>The star of the North</td>\n",
              "      <td>French</td>\n",
              "      <td>1861</td>\n",
              "    </tr>\n",
              "    <tr>\n",
              "      <th>Mississippi</th>\n",
              "      <td>Virtute et armis</td>\n",
              "      <td>By valor and arms</td>\n",
              "      <td>Latin</td>\n",
              "      <td>February 7, 1894</td>\n",
              "    </tr>\n",
              "    <tr>\n",
              "      <th>Missouri</th>\n",
              "      <td>Salus populi suprema lex esto</td>\n",
              "      <td>Let the welfare of the people be the supreme law</td>\n",
              "      <td>Latin</td>\n",
              "      <td>January 11, 1822</td>\n",
              "    </tr>\n",
              "    <tr>\n",
              "      <th>Montana</th>\n",
              "      <td>Oro y plata</td>\n",
              "      <td>Gold and silver</td>\n",
              "      <td>Spanish</td>\n",
              "      <td>February 9, 1865</td>\n",
              "    </tr>\n",
              "    <tr>\n",
              "      <th>Nebraska</th>\n",
              "      <td>Equality before the law</td>\n",
              "      <td>—</td>\n",
              "      <td>English</td>\n",
              "      <td>1867</td>\n",
              "    </tr>\n",
              "    <tr>\n",
              "      <th>Nevada</th>\n",
              "      <td>All For Our Country</td>\n",
              "      <td>—</td>\n",
              "      <td>English</td>\n",
              "      <td>February 24, 1866</td>\n",
              "    </tr>\n",
              "    <tr>\n",
              "      <th>New Hampshire</th>\n",
              "      <td>Live Free or Die</td>\n",
              "      <td>—</td>\n",
              "      <td>English</td>\n",
              "      <td>1945</td>\n",
              "    </tr>\n",
              "    <tr>\n",
              "      <th>New Jersey</th>\n",
              "      <td>Liberty and prosperity</td>\n",
              "      <td>—</td>\n",
              "      <td>English</td>\n",
              "      <td>March 26, 1928</td>\n",
              "    </tr>\n",
              "    <tr>\n",
              "      <th>New Mexico</th>\n",
              "      <td>Crescit eundo</td>\n",
              "      <td>It grows as it goes</td>\n",
              "      <td>Latin</td>\n",
              "      <td>1887</td>\n",
              "    </tr>\n",
              "    <tr>\n",
              "      <th>New York</th>\n",
              "      <td>Excelsior</td>\n",
              "      <td>Ever upward</td>\n",
              "      <td>Latin</td>\n",
              "      <td>1778</td>\n",
              "    </tr>\n",
              "    <tr>\n",
              "      <th>North Carolina</th>\n",
              "      <td>Esse quam videri</td>\n",
              "      <td>To be, rather than to seem</td>\n",
              "      <td>Latin</td>\n",
              "      <td>1893</td>\n",
              "    </tr>\n",
              "    <tr>\n",
              "      <th>North Dakota</th>\n",
              "      <td>\\nSerit ut alteri saeclo prosit</td>\n",
              "      <td>One sows for the benefit of another age</td>\n",
              "      <td>Latin</td>\n",
              "      <td>March 11, 2011</td>\n",
              "    </tr>\n",
              "    <tr>\n",
              "      <th>Ohio</th>\n",
              "      <td>With God, all things are possible</td>\n",
              "      <td>—</td>\n",
              "      <td>English</td>\n",
              "      <td>October 1, 1959</td>\n",
              "    </tr>\n",
              "    <tr>\n",
              "      <th>Oklahoma</th>\n",
              "      <td>Labor omnia vincit</td>\n",
              "      <td>Labor conquers all things</td>\n",
              "      <td>Latin</td>\n",
              "      <td>March 10, 1893</td>\n",
              "    </tr>\n",
              "    <tr>\n",
              "      <th>Oregon</th>\n",
              "      <td>Alis volat propriis</td>\n",
              "      <td>She flies with her own wings</td>\n",
              "      <td>Latin</td>\n",
              "      <td>1854</td>\n",
              "    </tr>\n",
              "    <tr>\n",
              "      <th>Pennsylvania</th>\n",
              "      <td>Virtue, liberty, and independence</td>\n",
              "      <td>—</td>\n",
              "      <td>English</td>\n",
              "      <td>1875</td>\n",
              "    </tr>\n",
              "    <tr>\n",
              "      <th>Rhode Island</th>\n",
              "      <td>Hope</td>\n",
              "      <td>—</td>\n",
              "      <td>English</td>\n",
              "      <td>May 4, 1664</td>\n",
              "    </tr>\n",
              "    <tr>\n",
              "      <th>South Carolina</th>\n",
              "      <td>Dum spiro spero \\nAnimis opibusque parati</td>\n",
              "      <td>While I breathe, I hope \\nReady in soul and re...</td>\n",
              "      <td>Latin</td>\n",
              "      <td>May 22, 1777</td>\n",
              "    </tr>\n",
              "    <tr>\n",
              "      <th>South Dakota</th>\n",
              "      <td>Under God the people rule</td>\n",
              "      <td>—</td>\n",
              "      <td>English</td>\n",
              "      <td>1885</td>\n",
              "    </tr>\n",
              "    <tr>\n",
              "      <th>Tennessee</th>\n",
              "      <td>Agriculture and Commerce</td>\n",
              "      <td>—</td>\n",
              "      <td>English</td>\n",
              "      <td>May 24, 1802</td>\n",
              "    </tr>\n",
              "    <tr>\n",
              "      <th>Texas</th>\n",
              "      <td>Friendship</td>\n",
              "      <td>—</td>\n",
              "      <td>English</td>\n",
              "      <td>1930</td>\n",
              "    </tr>\n",
              "    <tr>\n",
              "      <th>Utah</th>\n",
              "      <td>Industry</td>\n",
              "      <td>NaN</td>\n",
              "      <td>English</td>\n",
              "      <td>May 3, 1896</td>\n",
              "    </tr>\n",
              "    <tr>\n",
              "      <th>Vermont</th>\n",
              "      <td>Stella quarta decima fulgeat</td>\n",
              "      <td>May the fourteenth star shine bright</td>\n",
              "      <td>Latin</td>\n",
              "      <td>April 10, 2015</td>\n",
              "    </tr>\n",
              "    <tr>\n",
              "      <th>Virginia</th>\n",
              "      <td>Sic semper tyrannis</td>\n",
              "      <td>Thus always to tyrants</td>\n",
              "      <td>Latin</td>\n",
              "      <td>1776</td>\n",
              "    </tr>\n",
              "    <tr>\n",
              "      <th>Washington</th>\n",
              "      <td>Al-ki or Alki</td>\n",
              "      <td>By and by</td>\n",
              "      <td>Chinook Jargon</td>\n",
              "      <td>—</td>\n",
              "    </tr>\n",
              "    <tr>\n",
              "      <th>West Virginia</th>\n",
              "      <td>Montani semper liberi</td>\n",
              "      <td>Mountaineers are always free</td>\n",
              "      <td>Latin</td>\n",
              "      <td>September 26, 1863</td>\n",
              "    </tr>\n",
              "    <tr>\n",
              "      <th>Wisconsin</th>\n",
              "      <td>Forward</td>\n",
              "      <td>—</td>\n",
              "      <td>English</td>\n",
              "      <td>1851</td>\n",
              "    </tr>\n",
              "    <tr>\n",
              "      <th>Wyoming</th>\n",
              "      <td>Equal Rights</td>\n",
              "      <td>—</td>\n",
              "      <td>English</td>\n",
              "      <td>1893</td>\n",
              "    </tr>\n",
              "  </tbody>\n",
              "</table>\n",
              "</div>"
            ],
            "text/plain": [
              "                                                            Motto  \\\n",
              "State                                                               \n",
              "Alabama                             Audemus jura nostra defendere   \n",
              "Alaska                                        North to the future   \n",
              "Arizona                                                Ditat Deus   \n",
              "Arkansas                                           Regnat populus   \n",
              "California                                        Eureka (Εὕρηκα)   \n",
              "Colorado                                          Nil sine numine   \n",
              "Connecticut                               Qui transtulit sustinet   \n",
              "Delaware                                 Liberty and Independence   \n",
              "Florida                                           In God We Trust   \n",
              "Georgia                               Wisdom, Justice, Moderation   \n",
              "Hawaii                          Ua mau ke ea o ka ʻāina i ka pono   \n",
              "Idaho                                               Esto perpetua   \n",
              "Illinois                        State sovereignty, national union   \n",
              "Indiana                                 The Crossroads of America   \n",
              "Iowa            Our liberties we prize and our rights we will ...   \n",
              "Kansas                                        Ad astra per aspera   \n",
              "Kentucky                                     Deo gratiam habeamus   \n",
              "Louisiana                              Union, justice, confidence   \n",
              "Maine                                                      Dirigo   \n",
              "Maryland                             Fatti maschii, parole femine   \n",
              "Massachusetts           Ense petit placidam sub libertate quietem   \n",
              "Michigan                Si quaeris peninsulam amoenam circumspice   \n",
              "Minnesota                                        L'étoile du Nord   \n",
              "Mississippi                                      Virtute et armis   \n",
              "Missouri                            Salus populi suprema lex esto   \n",
              "Montana                                               Oro y plata   \n",
              "Nebraska                                  Equality before the law   \n",
              "Nevada                                        All For Our Country   \n",
              "New Hampshire                                    Live Free or Die   \n",
              "New Jersey                                 Liberty and prosperity   \n",
              "New Mexico                                          Crescit eundo   \n",
              "New York                                                Excelsior   \n",
              "North Carolina                                   Esse quam videri   \n",
              "North Dakota                      \\nSerit ut alteri saeclo prosit   \n",
              "Ohio                            With God, all things are possible   \n",
              "Oklahoma                                       Labor omnia vincit   \n",
              "Oregon                                        Alis volat propriis   \n",
              "Pennsylvania                    Virtue, liberty, and independence   \n",
              "Rhode Island                                                 Hope   \n",
              "South Carolina          Dum spiro spero \\nAnimis opibusque parati   \n",
              "South Dakota                            Under God the people rule   \n",
              "Tennessee                                Agriculture and Commerce   \n",
              "Texas                                                  Friendship   \n",
              "Utah                                                     Industry   \n",
              "Vermont                              Stella quarta decima fulgeat   \n",
              "Virginia                                      Sic semper tyrannis   \n",
              "Washington                                          Al-ki or Alki   \n",
              "West Virginia                               Montani semper liberi   \n",
              "Wisconsin                                                 Forward   \n",
              "Wyoming                                              Equal Rights   \n",
              "\n",
              "                                                      Translation  \\\n",
              "State                                                               \n",
              "Alabama                                We dare defend our rights!   \n",
              "Alaska                                                          —   \n",
              "Arizona                                              God enriches   \n",
              "Arkansas                                          The people rule   \n",
              "California                                        I have found it   \n",
              "Colorado                              Nothing without providence.   \n",
              "Connecticut                          He who transplanted sustains   \n",
              "Delaware                                                        —   \n",
              "Florida                                                         —   \n",
              "Georgia                                                         —   \n",
              "Hawaii          The life of the land is perpetuated in righteo...   \n",
              "Idaho                                         Let it be perpetual   \n",
              "Illinois                                                        —   \n",
              "Indiana                                                         —   \n",
              "Iowa                                                            —   \n",
              "Kansas                          To the stars through difficulties   \n",
              "Kentucky                                Let us be grateful to God   \n",
              "Louisiana                                                       —   \n",
              "Maine                                                      I lead   \n",
              "Maryland                               Manly deeds, womanly words   \n",
              "Massachusetts   By the sword we seek peace, but peace only und...   \n",
              "Michigan         If you seek a pleasant peninsula, look about you   \n",
              "Minnesota                                   The star of the North   \n",
              "Mississippi                                     By valor and arms   \n",
              "Missouri         Let the welfare of the people be the supreme law   \n",
              "Montana                                           Gold and silver   \n",
              "Nebraska                                                        —   \n",
              "Nevada                                                          —   \n",
              "New Hampshire                                                   —   \n",
              "New Jersey                                                      —   \n",
              "New Mexico                                    It grows as it goes   \n",
              "New York                                              Ever upward   \n",
              "North Carolina                         To be, rather than to seem   \n",
              "North Dakota              One sows for the benefit of another age   \n",
              "Ohio                                                            —   \n",
              "Oklahoma                                Labor conquers all things   \n",
              "Oregon                               She flies with her own wings   \n",
              "Pennsylvania                                                    —   \n",
              "Rhode Island                                                    —   \n",
              "South Carolina  While I breathe, I hope \\nReady in soul and re...   \n",
              "South Dakota                                                    —   \n",
              "Tennessee                                                       —   \n",
              "Texas                                                           —   \n",
              "Utah                                                          NaN   \n",
              "Vermont                      May the fourteenth star shine bright   \n",
              "Virginia                                   Thus always to tyrants   \n",
              "Washington                                              By and by   \n",
              "West Virginia                        Mountaineers are always free   \n",
              "Wisconsin                                                       —   \n",
              "Wyoming                                                         —   \n",
              "\n",
              "                      Language        Date Adopted  \n",
              "State                                               \n",
              "Alabama                  Latin                1923  \n",
              "Alaska                 English                1967  \n",
              "Arizona                  Latin                1863  \n",
              "Arkansas                 Latin                1907  \n",
              "California               Greek                1849  \n",
              "Colorado                 Latin    November 6, 1861  \n",
              "Connecticut              Latin     October 9, 1662  \n",
              "Delaware               English                1847  \n",
              "Florida                English                1868  \n",
              "Georgia                English                1798  \n",
              "Hawaii                Hawaiian       July 31, 1843  \n",
              "Idaho                    Latin                1890  \n",
              "Illinois               English                1819  \n",
              "Indiana                English                1937  \n",
              "Iowa                   English                1847  \n",
              "Kansas                   Latin                1861  \n",
              "Kentucky                 Latin                2002  \n",
              "Louisiana              English                1902  \n",
              "Maine                    Latin                1820  \n",
              "Maryland               Italian                1874  \n",
              "Massachusetts            Latin                1775  \n",
              "Michigan                 Latin        June 2, 1835  \n",
              "Minnesota               French                1861  \n",
              "Mississippi              Latin    February 7, 1894  \n",
              "Missouri                 Latin    January 11, 1822  \n",
              "Montana                Spanish    February 9, 1865  \n",
              "Nebraska               English                1867  \n",
              "Nevada                 English   February 24, 1866  \n",
              "New Hampshire          English                1945  \n",
              "New Jersey             English      March 26, 1928  \n",
              "New Mexico               Latin                1887  \n",
              "New York                 Latin                1778  \n",
              "North Carolina           Latin                1893  \n",
              "North Dakota             Latin      March 11, 2011  \n",
              "Ohio                   English     October 1, 1959  \n",
              "Oklahoma                 Latin      March 10, 1893  \n",
              "Oregon                   Latin                1854  \n",
              "Pennsylvania           English                1875  \n",
              "Rhode Island           English         May 4, 1664  \n",
              "South Carolina           Latin        May 22, 1777  \n",
              "South Dakota           English                1885  \n",
              "Tennessee              English        May 24, 1802  \n",
              "Texas                  English                1930  \n",
              "Utah                   English         May 3, 1896  \n",
              "Vermont                  Latin      April 10, 2015  \n",
              "Virginia                 Latin                1776  \n",
              "Washington      Chinook Jargon                   —  \n",
              "West Virginia            Latin  September 26, 1863  \n",
              "Wisconsin              English                1851  \n",
              "Wyoming                English                1893  "
            ]
          },
          "execution_count": 78,
          "metadata": {},
          "output_type": "execute_result"
        }
      ],
      "source": [
        "mottos = pd.read_csv(\"mottos.csv\", index_col = \"State\")\n",
        "mottos"
      ]
    },
    {
      "cell_type": "code",
      "execution_count": null,
      "id": "00e9409c",
      "metadata": {
        "id": "00e9409c",
        "outputId": "0fcb2fff-9f10-4558-d9d0-fd00b65d897c"
      },
      "outputs": [
        {
          "data": {
            "text/html": [
              "<div>\n",
              "<style scoped>\n",
              "    .dataframe tbody tr th:only-of-type {\n",
              "        vertical-align: middle;\n",
              "    }\n",
              "\n",
              "    .dataframe tbody tr th {\n",
              "        vertical-align: top;\n",
              "    }\n",
              "\n",
              "    .dataframe thead th {\n",
              "        text-align: right;\n",
              "    }\n",
              "</style>\n",
              "<table border=\"1\" class=\"dataframe\">\n",
              "  <thead>\n",
              "    <tr style=\"text-align: right;\">\n",
              "      <th></th>\n",
              "      <th>Motto</th>\n",
              "      <th>Translation</th>\n",
              "      <th>Language</th>\n",
              "      <th>Date Adopted</th>\n",
              "    </tr>\n",
              "    <tr>\n",
              "      <th>State</th>\n",
              "      <th></th>\n",
              "      <th></th>\n",
              "      <th></th>\n",
              "      <th></th>\n",
              "    </tr>\n",
              "  </thead>\n",
              "  <tbody>\n",
              "    <tr>\n",
              "      <th>Alabama</th>\n",
              "      <td>Audemus jura nostra defendere</td>\n",
              "      <td>We dare defend our rights!</td>\n",
              "      <td>Latin</td>\n",
              "      <td>1923</td>\n",
              "    </tr>\n",
              "    <tr>\n",
              "      <th>Alaska</th>\n",
              "      <td>North to the future</td>\n",
              "      <td>—</td>\n",
              "      <td>English</td>\n",
              "      <td>1967</td>\n",
              "    </tr>\n",
              "    <tr>\n",
              "      <th>Arizona</th>\n",
              "      <td>Ditat Deus</td>\n",
              "      <td>God enriches</td>\n",
              "      <td>Latin</td>\n",
              "      <td>1863</td>\n",
              "    </tr>\n",
              "    <tr>\n",
              "      <th>Arkansas</th>\n",
              "      <td>Regnat populus</td>\n",
              "      <td>The people rule</td>\n",
              "      <td>Latin</td>\n",
              "      <td>1907</td>\n",
              "    </tr>\n",
              "    <tr>\n",
              "      <th>California</th>\n",
              "      <td>Eureka (Εὕρηκα)</td>\n",
              "      <td>I have found it</td>\n",
              "      <td>Greek</td>\n",
              "      <td>1849</td>\n",
              "    </tr>\n",
              "  </tbody>\n",
              "</table>\n",
              "</div>"
            ],
            "text/plain": [
              "                                    Motto                 Translation  \\\n",
              "State                                                                   \n",
              "Alabama     Audemus jura nostra defendere  We dare defend our rights!   \n",
              "Alaska                North to the future                           —   \n",
              "Arizona                        Ditat Deus                God enriches   \n",
              "Arkansas                   Regnat populus             The people rule   \n",
              "California                Eureka (Εὕρηκα)             I have found it   \n",
              "\n",
              "           Language Date Adopted  \n",
              "State                             \n",
              "Alabama       Latin         1923  \n",
              "Alaska      English         1967  \n",
              "Arizona       Latin         1863  \n",
              "Arkansas      Latin         1907  \n",
              "California    Greek         1849  "
            ]
          },
          "execution_count": 79,
          "metadata": {},
          "output_type": "execute_result"
        }
      ],
      "source": [
        "mottos[\"Alabama\":\"California\"]"
      ]
    },
    {
      "cell_type": "code",
      "execution_count": null,
      "id": "bba5f628",
      "metadata": {
        "id": "bba5f628",
        "outputId": "cdb74110-97d2-472f-8869-2edf7e9c3e31"
      },
      "outputs": [
        {
          "data": {
            "text/plain": [
              "Index(['Alabama', 'Alaska', 'Arizona', 'Arkansas', 'California', 'Colorado',\n",
              "       'Connecticut', 'Delaware', 'Florida', 'Georgia', 'Hawaii', 'Idaho',\n",
              "       'Illinois', 'Indiana', 'Iowa', 'Kansas', 'Kentucky', 'Louisiana',\n",
              "       'Maine', 'Maryland', 'Massachusetts', 'Michigan', 'Minnesota',\n",
              "       'Mississippi', 'Missouri', 'Montana', 'Nebraska', 'Nevada',\n",
              "       'New Hampshire', 'New Jersey', 'New Mexico', 'New York',\n",
              "       'North Carolina', 'North Dakota', 'Ohio', 'Oklahoma', 'Oregon',\n",
              "       'Pennsylvania', 'Rhode Island', 'South Carolina', 'South Dakota',\n",
              "       'Tennessee', 'Texas', 'Utah', 'Vermont', 'Virginia', 'Washington',\n",
              "       'West Virginia', 'Wisconsin', 'Wyoming'],\n",
              "      dtype='object', name='State')"
            ]
          },
          "execution_count": 80,
          "metadata": {},
          "output_type": "execute_result"
        }
      ],
      "source": [
        "mottos.index"
      ]
    },
    {
      "cell_type": "code",
      "execution_count": null,
      "id": "4d477199",
      "metadata": {
        "id": "4d477199",
        "outputId": "7bd13478-b0b1-45d0-f02b-39b0d979892b"
      },
      "outputs": [
        {
          "data": {
            "text/plain": [
              "['Alabama',\n",
              " 'Alaska',\n",
              " 'Arizona',\n",
              " 'Arkansas',\n",
              " 'California',\n",
              " 'Colorado',\n",
              " 'Connecticut',\n",
              " 'Delaware',\n",
              " 'Florida',\n",
              " 'Georgia',\n",
              " 'Hawaii',\n",
              " 'Idaho',\n",
              " 'Illinois',\n",
              " 'Indiana',\n",
              " 'Iowa',\n",
              " 'Kansas',\n",
              " 'Kentucky',\n",
              " 'Louisiana',\n",
              " 'Maine',\n",
              " 'Maryland',\n",
              " 'Massachusetts',\n",
              " 'Michigan',\n",
              " 'Minnesota',\n",
              " 'Mississippi',\n",
              " 'Missouri',\n",
              " 'Montana',\n",
              " 'Nebraska',\n",
              " 'Nevada',\n",
              " 'New Hampshire',\n",
              " 'New Jersey',\n",
              " 'New Mexico',\n",
              " 'New York',\n",
              " 'North Carolina',\n",
              " 'North Dakota',\n",
              " 'Ohio',\n",
              " 'Oklahoma',\n",
              " 'Oregon',\n",
              " 'Pennsylvania',\n",
              " 'Rhode Island',\n",
              " 'South Carolina',\n",
              " 'South Dakota',\n",
              " 'Tennessee',\n",
              " 'Texas',\n",
              " 'Utah',\n",
              " 'Vermont',\n",
              " 'Virginia',\n",
              " 'Washington',\n",
              " 'West Virginia',\n",
              " 'Wisconsin',\n",
              " 'Wyoming']"
            ]
          },
          "execution_count": 81,
          "metadata": {},
          "output_type": "execute_result"
        }
      ],
      "source": [
        "mottos.index.tolist()"
      ]
    },
    {
      "cell_type": "code",
      "execution_count": null,
      "id": "21a1dbb8",
      "metadata": {
        "id": "21a1dbb8",
        "outputId": "2048f049-c255-4206-ad71-2ae39deb858e"
      },
      "outputs": [
        {
          "data": {
            "text/plain": [
              "Index(['Motto', 'Translation', 'Language', 'Date Adopted'], dtype='object')"
            ]
          },
          "execution_count": 82,
          "metadata": {},
          "output_type": "execute_result"
        }
      ],
      "source": [
        "mottos.columns"
      ]
    },
    {
      "cell_type": "markdown",
      "id": "26c676e8",
      "metadata": {
        "id": "26c676e8"
      },
      "source": [
        "## Conditional Selection"
      ]
    },
    {
      "cell_type": "code",
      "execution_count": null,
      "id": "03a83fd3",
      "metadata": {
        "id": "03a83fd3",
        "outputId": "7a16016b-0509-46ca-ce2d-6ade37c595b8"
      },
      "outputs": [
        {
          "data": {
            "text/html": [
              "<div>\n",
              "<style scoped>\n",
              "    .dataframe tbody tr th:only-of-type {\n",
              "        vertical-align: middle;\n",
              "    }\n",
              "\n",
              "    .dataframe tbody tr th {\n",
              "        vertical-align: top;\n",
              "    }\n",
              "\n",
              "    .dataframe thead th {\n",
              "        text-align: right;\n",
              "    }\n",
              "</style>\n",
              "<table border=\"1\" class=\"dataframe\">\n",
              "  <thead>\n",
              "    <tr style=\"text-align: right;\">\n",
              "      <th></th>\n",
              "      <th>Year</th>\n",
              "      <th>Candidate</th>\n",
              "      <th>Party</th>\n",
              "      <th>Popular vote</th>\n",
              "      <th>Result</th>\n",
              "      <th>%</th>\n",
              "    </tr>\n",
              "  </thead>\n",
              "  <tbody>\n",
              "    <tr>\n",
              "      <th>121</th>\n",
              "      <td>1976</td>\n",
              "      <td>Eugene McCarthy</td>\n",
              "      <td>Independent</td>\n",
              "      <td>740460</td>\n",
              "      <td>loss</td>\n",
              "      <td>0.911649</td>\n",
              "    </tr>\n",
              "    <tr>\n",
              "      <th>130</th>\n",
              "      <td>1980</td>\n",
              "      <td>John B. Anderson</td>\n",
              "      <td>Independent</td>\n",
              "      <td>5719850</td>\n",
              "      <td>loss</td>\n",
              "      <td>6.631143</td>\n",
              "    </tr>\n",
              "    <tr>\n",
              "      <th>143</th>\n",
              "      <td>1992</td>\n",
              "      <td>Ross Perot</td>\n",
              "      <td>Independent</td>\n",
              "      <td>19743821</td>\n",
              "      <td>loss</td>\n",
              "      <td>18.956298</td>\n",
              "    </tr>\n",
              "    <tr>\n",
              "      <th>161</th>\n",
              "      <td>2004</td>\n",
              "      <td>Ralph Nader</td>\n",
              "      <td>Independent</td>\n",
              "      <td>465151</td>\n",
              "      <td>loss</td>\n",
              "      <td>0.380663</td>\n",
              "    </tr>\n",
              "    <tr>\n",
              "      <th>167</th>\n",
              "      <td>2008</td>\n",
              "      <td>Ralph Nader</td>\n",
              "      <td>Independent</td>\n",
              "      <td>739034</td>\n",
              "      <td>loss</td>\n",
              "      <td>0.563842</td>\n",
              "    </tr>\n",
              "    <tr>\n",
              "      <th>174</th>\n",
              "      <td>2016</td>\n",
              "      <td>Evan McMullin</td>\n",
              "      <td>Independent</td>\n",
              "      <td>732273</td>\n",
              "      <td>loss</td>\n",
              "      <td>0.539546</td>\n",
              "    </tr>\n",
              "  </tbody>\n",
              "</table>\n",
              "</div>"
            ],
            "text/plain": [
              "     Year         Candidate        Party  Popular vote Result          %\n",
              "121  1976   Eugene McCarthy  Independent        740460   loss   0.911649\n",
              "130  1980  John B. Anderson  Independent       5719850   loss   6.631143\n",
              "143  1992        Ross Perot  Independent      19743821   loss  18.956298\n",
              "161  2004       Ralph Nader  Independent        465151   loss   0.380663\n",
              "167  2008       Ralph Nader  Independent        739034   loss   0.563842\n",
              "174  2016     Evan McMullin  Independent        732273   loss   0.539546"
            ]
          },
          "execution_count": 83,
          "metadata": {},
          "output_type": "execute_result"
        }
      ],
      "source": [
        "elections[elections[\"Party\"] == \"Independent\"]"
      ]
    },
    {
      "cell_type": "code",
      "execution_count": null,
      "id": "de36d3c1",
      "metadata": {
        "id": "de36d3c1",
        "outputId": "bd5205b3-4e7b-4200-a598-34ab23328f75"
      },
      "outputs": [
        {
          "data": {
            "text/plain": [
              "0      False\n",
              "1      False\n",
              "2      False\n",
              "3      False\n",
              "4      False\n",
              "       ...  \n",
              "177    False\n",
              "178    False\n",
              "179    False\n",
              "180    False\n",
              "181    False\n",
              "Name: Party, Length: 182, dtype: bool"
            ]
          },
          "execution_count": 84,
          "metadata": {},
          "output_type": "execute_result"
        }
      ],
      "source": [
        "elections[\"Party\"] == \"Independent\""
      ]
    },
    {
      "cell_type": "markdown",
      "id": "3797f1de",
      "metadata": {
        "id": "3797f1de"
      },
      "source": [
        "Candidates who have won elections with  a relatively small fraction of votes"
      ]
    },
    {
      "cell_type": "code",
      "execution_count": null,
      "id": "23ce73b4",
      "metadata": {
        "id": "23ce73b4",
        "outputId": "1e0d8115-5910-4015-b889-a0bd2fb51cd7"
      },
      "outputs": [
        {
          "data": {
            "text/html": [
              "<div>\n",
              "<style scoped>\n",
              "    .dataframe tbody tr th:only-of-type {\n",
              "        vertical-align: middle;\n",
              "    }\n",
              "\n",
              "    .dataframe tbody tr th {\n",
              "        vertical-align: top;\n",
              "    }\n",
              "\n",
              "    .dataframe thead th {\n",
              "        text-align: right;\n",
              "    }\n",
              "</style>\n",
              "<table border=\"1\" class=\"dataframe\">\n",
              "  <thead>\n",
              "    <tr style=\"text-align: right;\">\n",
              "      <th></th>\n",
              "      <th>Year</th>\n",
              "      <th>Candidate</th>\n",
              "      <th>Party</th>\n",
              "      <th>Popular vote</th>\n",
              "      <th>Result</th>\n",
              "      <th>%</th>\n",
              "    </tr>\n",
              "  </thead>\n",
              "  <tbody>\n",
              "    <tr>\n",
              "      <th>1</th>\n",
              "      <td>1824</td>\n",
              "      <td>John Quincy Adams</td>\n",
              "      <td>Democratic-Republican</td>\n",
              "      <td>113142</td>\n",
              "      <td>win</td>\n",
              "      <td>42.789878</td>\n",
              "    </tr>\n",
              "    <tr>\n",
              "      <th>20</th>\n",
              "      <td>1856</td>\n",
              "      <td>James Buchanan</td>\n",
              "      <td>Democratic</td>\n",
              "      <td>1835140</td>\n",
              "      <td>win</td>\n",
              "      <td>45.306080</td>\n",
              "    </tr>\n",
              "    <tr>\n",
              "      <th>23</th>\n",
              "      <td>1860</td>\n",
              "      <td>Abraham Lincoln</td>\n",
              "      <td>Republican</td>\n",
              "      <td>1855993</td>\n",
              "      <td>win</td>\n",
              "      <td>39.699408</td>\n",
              "    </tr>\n",
              "    <tr>\n",
              "      <th>47</th>\n",
              "      <td>1892</td>\n",
              "      <td>Grover Cleveland</td>\n",
              "      <td>Democratic</td>\n",
              "      <td>5553898</td>\n",
              "      <td>win</td>\n",
              "      <td>46.121393</td>\n",
              "    </tr>\n",
              "    <tr>\n",
              "      <th>70</th>\n",
              "      <td>1912</td>\n",
              "      <td>Woodrow Wilson</td>\n",
              "      <td>Democratic</td>\n",
              "      <td>6296284</td>\n",
              "      <td>win</td>\n",
              "      <td>41.933422</td>\n",
              "    </tr>\n",
              "    <tr>\n",
              "      <th>117</th>\n",
              "      <td>1968</td>\n",
              "      <td>Richard Nixon</td>\n",
              "      <td>Republican</td>\n",
              "      <td>31783783</td>\n",
              "      <td>win</td>\n",
              "      <td>43.565246</td>\n",
              "    </tr>\n",
              "    <tr>\n",
              "      <th>140</th>\n",
              "      <td>1992</td>\n",
              "      <td>Bill Clinton</td>\n",
              "      <td>Democratic</td>\n",
              "      <td>44909806</td>\n",
              "      <td>win</td>\n",
              "      <td>43.118485</td>\n",
              "    </tr>\n",
              "    <tr>\n",
              "      <th>173</th>\n",
              "      <td>2016</td>\n",
              "      <td>Donald Trump</td>\n",
              "      <td>Republican</td>\n",
              "      <td>62984828</td>\n",
              "      <td>win</td>\n",
              "      <td>46.407862</td>\n",
              "    </tr>\n",
              "  </tbody>\n",
              "</table>\n",
              "</div>"
            ],
            "text/plain": [
              "     Year          Candidate                  Party  Popular vote Result  \\\n",
              "1    1824  John Quincy Adams  Democratic-Republican        113142    win   \n",
              "20   1856     James Buchanan             Democratic       1835140    win   \n",
              "23   1860    Abraham Lincoln             Republican       1855993    win   \n",
              "47   1892   Grover Cleveland             Democratic       5553898    win   \n",
              "70   1912     Woodrow Wilson             Democratic       6296284    win   \n",
              "117  1968      Richard Nixon             Republican      31783783    win   \n",
              "140  1992       Bill Clinton             Democratic      44909806    win   \n",
              "173  2016       Donald Trump             Republican      62984828    win   \n",
              "\n",
              "             %  \n",
              "1    42.789878  \n",
              "20   45.306080  \n",
              "23   39.699408  \n",
              "47   46.121393  \n",
              "70   41.933422  \n",
              "117  43.565246  \n",
              "140  43.118485  \n",
              "173  46.407862  "
            ]
          },
          "execution_count": 85,
          "metadata": {},
          "output_type": "execute_result"
        }
      ],
      "source": [
        "elections[\n",
        "    (elections[\"Result\"] == \"win\") & \n",
        "    (elections[\"%\"] < 47)\n",
        "    ]"
      ]
    },
    {
      "cell_type": "markdown",
      "id": "d77ba687",
      "metadata": {
        "id": "d77ba687"
      },
      "source": [
        "### ===================================================="
      ]
    },
    {
      "cell_type": "code",
      "execution_count": null,
      "id": "ba19f580",
      "metadata": {
        "id": "ba19f580",
        "outputId": "399a87d8-6bb2-4f65-8968-fb64a43c773f"
      },
      "outputs": [
        {
          "data": {
            "text/html": [
              "<div>\n",
              "<style scoped>\n",
              "    .dataframe tbody tr th:only-of-type {\n",
              "        vertical-align: middle;\n",
              "    }\n",
              "\n",
              "    .dataframe tbody tr th {\n",
              "        vertical-align: top;\n",
              "    }\n",
              "\n",
              "    .dataframe thead th {\n",
              "        text-align: right;\n",
              "    }\n",
              "</style>\n",
              "<table border=\"1\" class=\"dataframe\">\n",
              "  <thead>\n",
              "    <tr style=\"text-align: right;\">\n",
              "      <th></th>\n",
              "      <th>Year</th>\n",
              "      <th>Candidate</th>\n",
              "      <th>Party</th>\n",
              "      <th>Popular vote</th>\n",
              "      <th>Result</th>\n",
              "      <th>%</th>\n",
              "    </tr>\n",
              "  </thead>\n",
              "  <tbody>\n",
              "    <tr>\n",
              "      <th>6</th>\n",
              "      <td>1832</td>\n",
              "      <td>William Wirt</td>\n",
              "      <td>Anti-Masonic</td>\n",
              "      <td>100715</td>\n",
              "      <td>loss</td>\n",
              "      <td>7.821583</td>\n",
              "    </tr>\n",
              "    <tr>\n",
              "      <th>22</th>\n",
              "      <td>1856</td>\n",
              "      <td>Millard Fillmore</td>\n",
              "      <td>American</td>\n",
              "      <td>873053</td>\n",
              "      <td>loss</td>\n",
              "      <td>21.554001</td>\n",
              "    </tr>\n",
              "    <tr>\n",
              "      <th>38</th>\n",
              "      <td>1884</td>\n",
              "      <td>Benjamin Butler</td>\n",
              "      <td>Anti-Monopoly</td>\n",
              "      <td>134294</td>\n",
              "      <td>loss</td>\n",
              "      <td>1.335838</td>\n",
              "    </tr>\n",
              "    <tr>\n",
              "      <th>115</th>\n",
              "      <td>1968</td>\n",
              "      <td>George Wallace</td>\n",
              "      <td>American Independent</td>\n",
              "      <td>9901118</td>\n",
              "      <td>loss</td>\n",
              "      <td>13.571218</td>\n",
              "    </tr>\n",
              "    <tr>\n",
              "      <th>119</th>\n",
              "      <td>1972</td>\n",
              "      <td>John G. Schmitz</td>\n",
              "      <td>American Independent</td>\n",
              "      <td>1100868</td>\n",
              "      <td>loss</td>\n",
              "      <td>1.421524</td>\n",
              "    </tr>\n",
              "    <tr>\n",
              "      <th>124</th>\n",
              "      <td>1976</td>\n",
              "      <td>Lester Maddox</td>\n",
              "      <td>American Independent</td>\n",
              "      <td>170274</td>\n",
              "      <td>loss</td>\n",
              "      <td>0.209640</td>\n",
              "    </tr>\n",
              "    <tr>\n",
              "      <th>126</th>\n",
              "      <td>1976</td>\n",
              "      <td>Thomas J. Anderson</td>\n",
              "      <td>American</td>\n",
              "      <td>158271</td>\n",
              "      <td>loss</td>\n",
              "      <td>0.194862</td>\n",
              "    </tr>\n",
              "  </tbody>\n",
              "</table>\n",
              "</div>"
            ],
            "text/plain": [
              "     Year           Candidate                 Party  Popular vote Result  \\\n",
              "6    1832        William Wirt          Anti-Masonic        100715   loss   \n",
              "22   1856    Millard Fillmore              American        873053   loss   \n",
              "38   1884     Benjamin Butler         Anti-Monopoly        134294   loss   \n",
              "115  1968      George Wallace  American Independent       9901118   loss   \n",
              "119  1972     John G. Schmitz  American Independent       1100868   loss   \n",
              "124  1976       Lester Maddox  American Independent        170274   loss   \n",
              "126  1976  Thomas J. Anderson              American        158271   loss   \n",
              "\n",
              "             %  \n",
              "6     7.821583  \n",
              "22   21.554001  \n",
              "38    1.335838  \n",
              "115  13.571218  \n",
              "119   1.421524  \n",
              "124   0.209640  \n",
              "126   0.194862  "
            ]
          },
          "execution_count": 86,
          "metadata": {},
          "output_type": "execute_result"
        }
      ],
      "source": [
        "(\n",
        "    elections[(elections[\"Party\"] == \"Anti-Masonic\")  | \n",
        "              (elections[\"Party\"] == \"American\")      |\n",
        "              (elections[\"Party\"] == \"Anti-Monopoly\") |\n",
        "              (elections[\"Party\"] == \"American Independent\")]\n",
        ")\n",
        "#Note: The parentheses surrounding the code make it possible to break the code on to multiple lines for readability"
      ]
    },
    {
      "cell_type": "markdown",
      "id": "15b42f0f",
      "metadata": {
        "id": "15b42f0f"
      },
      "source": [
        "Pandas provides many alternatives\n",
        "\n",
        ".isin\n",
        "\n",
        ".str.startswith\n",
        "\n",
        ".query\n",
        "\n",
        ".group.filter"
      ]
    },
    {
      "cell_type": "code",
      "execution_count": null,
      "id": "7be29259",
      "metadata": {
        "id": "7be29259",
        "outputId": "afd3ae4e-29cc-4830-e524-300b4a7dee20"
      },
      "outputs": [
        {
          "data": {
            "text/html": [
              "<div>\n",
              "<style scoped>\n",
              "    .dataframe tbody tr th:only-of-type {\n",
              "        vertical-align: middle;\n",
              "    }\n",
              "\n",
              "    .dataframe tbody tr th {\n",
              "        vertical-align: top;\n",
              "    }\n",
              "\n",
              "    .dataframe thead th {\n",
              "        text-align: right;\n",
              "    }\n",
              "</style>\n",
              "<table border=\"1\" class=\"dataframe\">\n",
              "  <thead>\n",
              "    <tr style=\"text-align: right;\">\n",
              "      <th></th>\n",
              "      <th>Year</th>\n",
              "      <th>Candidate</th>\n",
              "      <th>Party</th>\n",
              "      <th>Popular vote</th>\n",
              "      <th>Result</th>\n",
              "      <th>%</th>\n",
              "    </tr>\n",
              "  </thead>\n",
              "  <tbody>\n",
              "    <tr>\n",
              "      <th>6</th>\n",
              "      <td>1832</td>\n",
              "      <td>William Wirt</td>\n",
              "      <td>Anti-Masonic</td>\n",
              "      <td>100715</td>\n",
              "      <td>loss</td>\n",
              "      <td>7.821583</td>\n",
              "    </tr>\n",
              "    <tr>\n",
              "      <th>22</th>\n",
              "      <td>1856</td>\n",
              "      <td>Millard Fillmore</td>\n",
              "      <td>American</td>\n",
              "      <td>873053</td>\n",
              "      <td>loss</td>\n",
              "      <td>21.554001</td>\n",
              "    </tr>\n",
              "    <tr>\n",
              "      <th>38</th>\n",
              "      <td>1884</td>\n",
              "      <td>Benjamin Butler</td>\n",
              "      <td>Anti-Monopoly</td>\n",
              "      <td>134294</td>\n",
              "      <td>loss</td>\n",
              "      <td>1.335838</td>\n",
              "    </tr>\n",
              "    <tr>\n",
              "      <th>115</th>\n",
              "      <td>1968</td>\n",
              "      <td>George Wallace</td>\n",
              "      <td>American Independent</td>\n",
              "      <td>9901118</td>\n",
              "      <td>loss</td>\n",
              "      <td>13.571218</td>\n",
              "    </tr>\n",
              "    <tr>\n",
              "      <th>119</th>\n",
              "      <td>1972</td>\n",
              "      <td>John G. Schmitz</td>\n",
              "      <td>American Independent</td>\n",
              "      <td>1100868</td>\n",
              "      <td>loss</td>\n",
              "      <td>1.421524</td>\n",
              "    </tr>\n",
              "    <tr>\n",
              "      <th>124</th>\n",
              "      <td>1976</td>\n",
              "      <td>Lester Maddox</td>\n",
              "      <td>American Independent</td>\n",
              "      <td>170274</td>\n",
              "      <td>loss</td>\n",
              "      <td>0.209640</td>\n",
              "    </tr>\n",
              "    <tr>\n",
              "      <th>126</th>\n",
              "      <td>1976</td>\n",
              "      <td>Thomas J. Anderson</td>\n",
              "      <td>American</td>\n",
              "      <td>158271</td>\n",
              "      <td>loss</td>\n",
              "      <td>0.194862</td>\n",
              "    </tr>\n",
              "  </tbody>\n",
              "</table>\n",
              "</div>"
            ],
            "text/plain": [
              "     Year           Candidate                 Party  Popular vote Result  \\\n",
              "6    1832        William Wirt          Anti-Masonic        100715   loss   \n",
              "22   1856    Millard Fillmore              American        873053   loss   \n",
              "38   1884     Benjamin Butler         Anti-Monopoly        134294   loss   \n",
              "115  1968      George Wallace  American Independent       9901118   loss   \n",
              "119  1972     John G. Schmitz  American Independent       1100868   loss   \n",
              "124  1976       Lester Maddox  American Independent        170274   loss   \n",
              "126  1976  Thomas J. Anderson              American        158271   loss   \n",
              "\n",
              "             %  \n",
              "6     7.821583  \n",
              "22   21.554001  \n",
              "38    1.335838  \n",
              "115  13.571218  \n",
              "119   1.421524  \n",
              "124   0.209640  \n",
              "126   0.194862  "
            ]
          },
          "execution_count": 87,
          "metadata": {},
          "output_type": "execute_result"
        }
      ],
      "source": [
        "a_parties = [\"Anti-Masonic\", \"American\", \"Anti-Monopoly\", \"American Independent\"]\n",
        "elections[elections[\"Party\"].isin(a_parties)]"
      ]
    },
    {
      "cell_type": "code",
      "execution_count": null,
      "id": "ec5b3916",
      "metadata": {
        "id": "ec5b3916",
        "outputId": "7e463bf9-8050-4ad7-c705-6fdd0bbff855"
      },
      "outputs": [
        {
          "data": {
            "text/html": [
              "<div>\n",
              "<style scoped>\n",
              "    .dataframe tbody tr th:only-of-type {\n",
              "        vertical-align: middle;\n",
              "    }\n",
              "\n",
              "    .dataframe tbody tr th {\n",
              "        vertical-align: top;\n",
              "    }\n",
              "\n",
              "    .dataframe thead th {\n",
              "        text-align: right;\n",
              "    }\n",
              "</style>\n",
              "<table border=\"1\" class=\"dataframe\">\n",
              "  <thead>\n",
              "    <tr style=\"text-align: right;\">\n",
              "      <th></th>\n",
              "      <th>Year</th>\n",
              "      <th>Candidate</th>\n",
              "      <th>Party</th>\n",
              "      <th>Popular vote</th>\n",
              "      <th>Result</th>\n",
              "      <th>%</th>\n",
              "    </tr>\n",
              "  </thead>\n",
              "  <tbody>\n",
              "    <tr>\n",
              "      <th>22</th>\n",
              "      <td>1856</td>\n",
              "      <td>Millard Fillmore</td>\n",
              "      <td>American</td>\n",
              "      <td>873053</td>\n",
              "      <td>loss</td>\n",
              "      <td>21.554001</td>\n",
              "    </tr>\n",
              "    <tr>\n",
              "      <th>115</th>\n",
              "      <td>1968</td>\n",
              "      <td>George Wallace</td>\n",
              "      <td>American Independent</td>\n",
              "      <td>9901118</td>\n",
              "      <td>loss</td>\n",
              "      <td>13.571218</td>\n",
              "    </tr>\n",
              "    <tr>\n",
              "      <th>119</th>\n",
              "      <td>1972</td>\n",
              "      <td>John G. Schmitz</td>\n",
              "      <td>American Independent</td>\n",
              "      <td>1100868</td>\n",
              "      <td>loss</td>\n",
              "      <td>1.421524</td>\n",
              "    </tr>\n",
              "    <tr>\n",
              "      <th>124</th>\n",
              "      <td>1976</td>\n",
              "      <td>Lester Maddox</td>\n",
              "      <td>American Independent</td>\n",
              "      <td>170274</td>\n",
              "      <td>loss</td>\n",
              "      <td>0.209640</td>\n",
              "    </tr>\n",
              "    <tr>\n",
              "      <th>126</th>\n",
              "      <td>1976</td>\n",
              "      <td>Thomas J. Anderson</td>\n",
              "      <td>American</td>\n",
              "      <td>158271</td>\n",
              "      <td>loss</td>\n",
              "      <td>0.194862</td>\n",
              "    </tr>\n",
              "  </tbody>\n",
              "</table>\n",
              "</div>"
            ],
            "text/plain": [
              "     Year           Candidate                 Party  Popular vote Result  \\\n",
              "22   1856    Millard Fillmore              American        873053   loss   \n",
              "115  1968      George Wallace  American Independent       9901118   loss   \n",
              "119  1972     John G. Schmitz  American Independent       1100868   loss   \n",
              "124  1976       Lester Maddox  American Independent        170274   loss   \n",
              "126  1976  Thomas J. Anderson              American        158271   loss   \n",
              "\n",
              "             %  \n",
              "22   21.554001  \n",
              "115  13.571218  \n",
              "119   1.421524  \n",
              "124   0.209640  \n",
              "126   0.194862  "
            ]
          },
          "execution_count": 88,
          "metadata": {},
          "output_type": "execute_result"
        }
      ],
      "source": [
        "elections[elections[\"Party\"].str.startswith(\"Am\")]"
      ]
    },
    {
      "cell_type": "code",
      "execution_count": null,
      "id": "3e7d0503",
      "metadata": {
        "id": "3e7d0503",
        "outputId": "46d11e6b-dc36-400e-da47-2b2955f94237"
      },
      "outputs": [
        {
          "data": {
            "text/html": [
              "<div>\n",
              "<style scoped>\n",
              "    .dataframe tbody tr th:only-of-type {\n",
              "        vertical-align: middle;\n",
              "    }\n",
              "\n",
              "    .dataframe tbody tr th {\n",
              "        vertical-align: top;\n",
              "    }\n",
              "\n",
              "    .dataframe thead th {\n",
              "        text-align: right;\n",
              "    }\n",
              "</style>\n",
              "<table border=\"1\" class=\"dataframe\">\n",
              "  <thead>\n",
              "    <tr style=\"text-align: right;\">\n",
              "      <th></th>\n",
              "      <th>Year</th>\n",
              "      <th>Candidate</th>\n",
              "      <th>Party</th>\n",
              "      <th>Popular vote</th>\n",
              "      <th>Result</th>\n",
              "      <th>%</th>\n",
              "    </tr>\n",
              "  </thead>\n",
              "  <tbody>\n",
              "    <tr>\n",
              "      <th>152</th>\n",
              "      <td>2000</td>\n",
              "      <td>George W. Bush</td>\n",
              "      <td>Republican</td>\n",
              "      <td>50456002</td>\n",
              "      <td>win</td>\n",
              "      <td>47.974666</td>\n",
              "    </tr>\n",
              "    <tr>\n",
              "      <th>157</th>\n",
              "      <td>2004</td>\n",
              "      <td>George W. Bush</td>\n",
              "      <td>Republican</td>\n",
              "      <td>62040610</td>\n",
              "      <td>win</td>\n",
              "      <td>50.771824</td>\n",
              "    </tr>\n",
              "    <tr>\n",
              "      <th>162</th>\n",
              "      <td>2008</td>\n",
              "      <td>Barack Obama</td>\n",
              "      <td>Democratic</td>\n",
              "      <td>69498516</td>\n",
              "      <td>win</td>\n",
              "      <td>53.023510</td>\n",
              "    </tr>\n",
              "    <tr>\n",
              "      <th>168</th>\n",
              "      <td>2012</td>\n",
              "      <td>Barack Obama</td>\n",
              "      <td>Democratic</td>\n",
              "      <td>65915795</td>\n",
              "      <td>win</td>\n",
              "      <td>51.258484</td>\n",
              "    </tr>\n",
              "    <tr>\n",
              "      <th>173</th>\n",
              "      <td>2016</td>\n",
              "      <td>Donald Trump</td>\n",
              "      <td>Republican</td>\n",
              "      <td>62984828</td>\n",
              "      <td>win</td>\n",
              "      <td>46.407862</td>\n",
              "    </tr>\n",
              "    <tr>\n",
              "      <th>178</th>\n",
              "      <td>2020</td>\n",
              "      <td>Joseph Biden</td>\n",
              "      <td>Democratic</td>\n",
              "      <td>81268924</td>\n",
              "      <td>win</td>\n",
              "      <td>51.311515</td>\n",
              "    </tr>\n",
              "  </tbody>\n",
              "</table>\n",
              "</div>"
            ],
            "text/plain": [
              "     Year       Candidate       Party  Popular vote Result          %\n",
              "152  2000  George W. Bush  Republican      50456002    win  47.974666\n",
              "157  2004  George W. Bush  Republican      62040610    win  50.771824\n",
              "162  2008    Barack Obama  Democratic      69498516    win  53.023510\n",
              "168  2012    Barack Obama  Democratic      65915795    win  51.258484\n",
              "173  2016    Donald Trump  Republican      62984828    win  46.407862\n",
              "178  2020    Joseph Biden  Democratic      81268924    win  51.311515"
            ]
          },
          "execution_count": 89,
          "metadata": {},
          "output_type": "execute_result"
        }
      ],
      "source": [
        "elections.query('Year >= 2000 and Result == \"win\"')"
      ]
    },
    {
      "cell_type": "code",
      "execution_count": null,
      "id": "7088f4ec",
      "metadata": {
        "id": "7088f4ec",
        "outputId": "641120df-7168-4b2d-f616-e7760a19d0b1"
      },
      "outputs": [
        {
          "data": {
            "text/html": [
              "<div>\n",
              "<style scoped>\n",
              "    .dataframe tbody tr th:only-of-type {\n",
              "        vertical-align: middle;\n",
              "    }\n",
              "\n",
              "    .dataframe tbody tr th {\n",
              "        vertical-align: top;\n",
              "    }\n",
              "\n",
              "    .dataframe thead th {\n",
              "        text-align: right;\n",
              "    }\n",
              "</style>\n",
              "<table border=\"1\" class=\"dataframe\">\n",
              "  <thead>\n",
              "    <tr style=\"text-align: right;\">\n",
              "      <th></th>\n",
              "      <th>Year</th>\n",
              "      <th>Candidate</th>\n",
              "      <th>Party</th>\n",
              "      <th>Popular vote</th>\n",
              "      <th>Result</th>\n",
              "      <th>%</th>\n",
              "    </tr>\n",
              "  </thead>\n",
              "  <tbody>\n",
              "    <tr>\n",
              "      <th>1</th>\n",
              "      <td>1824</td>\n",
              "      <td>John Quincy Adams</td>\n",
              "      <td>Democratic-Republican</td>\n",
              "      <td>113142</td>\n",
              "      <td>win</td>\n",
              "      <td>42.789878</td>\n",
              "    </tr>\n",
              "    <tr>\n",
              "      <th>11</th>\n",
              "      <td>1840</td>\n",
              "      <td>William Henry Harrison</td>\n",
              "      <td>Whig</td>\n",
              "      <td>1275583</td>\n",
              "      <td>win</td>\n",
              "      <td>53.051213</td>\n",
              "    </tr>\n",
              "    <tr>\n",
              "      <th>16</th>\n",
              "      <td>1848</td>\n",
              "      <td>Zachary Taylor</td>\n",
              "      <td>Whig</td>\n",
              "      <td>1360235</td>\n",
              "      <td>win</td>\n",
              "      <td>47.309296</td>\n",
              "    </tr>\n",
              "    <tr>\n",
              "      <th>27</th>\n",
              "      <td>1864</td>\n",
              "      <td>Abraham Lincoln</td>\n",
              "      <td>National Union</td>\n",
              "      <td>2211317</td>\n",
              "      <td>win</td>\n",
              "      <td>54.951512</td>\n",
              "    </tr>\n",
              "  </tbody>\n",
              "</table>\n",
              "</div>"
            ],
            "text/plain": [
              "    Year               Candidate                  Party  Popular vote Result  \\\n",
              "1   1824       John Quincy Adams  Democratic-Republican        113142    win   \n",
              "11  1840  William Henry Harrison                   Whig       1275583    win   \n",
              "16  1848          Zachary Taylor                   Whig       1360235    win   \n",
              "27  1864         Abraham Lincoln         National Union       2211317    win   \n",
              "\n",
              "            %  \n",
              "1   42.789878  \n",
              "11  53.051213  \n",
              "16  47.309296  \n",
              "27  54.951512  "
            ]
          },
          "execution_count": 90,
          "metadata": {},
          "output_type": "execute_result"
        }
      ],
      "source": [
        "parties = [\"Republican\", \"Democratic\"]\n",
        "elections.query('Result == \"win\" and Party not in @parties')"
      ]
    },
    {
      "cell_type": "markdown",
      "id": "614cec94",
      "metadata": {
        "id": "614cec94"
      },
      "source": [
        "### ===================================================="
      ]
    },
    {
      "cell_type": "markdown",
      "id": "bc939794",
      "metadata": {
        "id": "bc939794"
      },
      "source": [
        "### Handy Functions"
      ]
    },
    {
      "cell_type": "code",
      "execution_count": null,
      "id": "03ca17c3",
      "metadata": {
        "id": "03ca17c3",
        "outputId": "84635f7d-41fe-4b5c-f234-7a45ad253af2"
      },
      "outputs": [
        {
          "data": {
            "text/plain": [
              "1      42.789878\n",
              "2      56.203927\n",
              "4      54.574789\n",
              "8      52.272472\n",
              "11     53.051213\n",
              "13     50.749477\n",
              "16     47.309296\n",
              "17     51.013168\n",
              "20     45.306080\n",
              "23     39.699408\n",
              "27     54.951512\n",
              "30     52.665305\n",
              "32     55.928594\n",
              "33     48.471624\n",
              "36     48.369234\n",
              "39     48.884933\n",
              "43     47.858041\n",
              "47     46.121393\n",
              "53     51.213817\n",
              "56     52.342640\n",
              "60     56.562787\n",
              "65     52.013300\n",
              "70     41.933422\n",
              "74     49.367987\n",
              "79     60.574501\n",
              "80     54.329113\n",
              "84     58.368524\n",
              "86     57.672125\n",
              "91     60.978107\n",
              "94     54.871202\n",
              "97     53.773801\n",
              "100    49.601536\n",
              "106    55.325173\n",
              "109    57.650654\n",
              "111    50.082561\n",
              "114    61.344703\n",
              "117    43.565246\n",
              "120    60.907806\n",
              "123    50.271900\n",
              "131    50.897944\n",
              "133    59.023326\n",
              "135    53.518845\n",
              "140    43.118485\n",
              "144    49.296938\n",
              "152    47.974666\n",
              "157    50.771824\n",
              "162    53.023510\n",
              "168    51.258484\n",
              "173    46.407862\n",
              "178    51.311515\n",
              "Name: %, dtype: float64"
            ]
          },
          "execution_count": 91,
          "metadata": {},
          "output_type": "execute_result"
        }
      ],
      "source": [
        "winners = elections.query('Result == \"win\"')[\"%\"]\n",
        "winners"
      ]
    },
    {
      "cell_type": "code",
      "execution_count": null,
      "id": "fcdcbc7c",
      "metadata": {
        "id": "fcdcbc7c",
        "outputId": "d5691679-2a92-43e2-a657-fb163dea2f7b"
      },
      "outputs": [
        {
          "data": {
            "text/plain": [
              "51.711492943"
            ]
          },
          "execution_count": 92,
          "metadata": {},
          "output_type": "execute_result"
        }
      ],
      "source": [
        "np.mean(winners)"
      ]
    },
    {
      "cell_type": "code",
      "execution_count": null,
      "id": "c1c5b358",
      "metadata": {
        "id": "c1c5b358",
        "outputId": "3c3c648f-aeee-4faa-a70c-685454985a44"
      },
      "outputs": [
        {
          "data": {
            "text/plain": [
              "61.34470329"
            ]
          },
          "execution_count": 93,
          "metadata": {},
          "output_type": "execute_result"
        }
      ],
      "source": [
        "max(winners)"
      ]
    },
    {
      "cell_type": "code",
      "execution_count": null,
      "id": "f9b594b8",
      "metadata": {
        "id": "f9b594b8"
      },
      "outputs": [],
      "source": [
        "def rmean(df):\n",
        "    return(\"Mean:\", np.mean(df), \n",
        "           \"Maximum Value:\", max(df),\n",
        "          \"Minimum Value:\", min(df))"
      ]
    },
    {
      "cell_type": "code",
      "execution_count": null,
      "id": "7b186116",
      "metadata": {
        "id": "7b186116",
        "outputId": "e846a665-b2ad-4a80-b08f-3a3ea0fd7759"
      },
      "outputs": [
        {
          "data": {
            "text/plain": [
              "('Mean:',\n",
              " 51.711492943,\n",
              " 'Maximum Value:',\n",
              " 61.34470329,\n",
              " 'Minimum Value:',\n",
              " 39.69940846)"
            ]
          },
          "execution_count": 95,
          "metadata": {},
          "output_type": "execute_result"
        }
      ],
      "source": [
        "rmean(winners)"
      ]
    },
    {
      "cell_type": "markdown",
      "id": "e595e8da",
      "metadata": {
        "id": "e595e8da"
      },
      "source": [
        "### ===================================================="
      ]
    },
    {
      "cell_type": "markdown",
      "id": "bbe2b0e5",
      "metadata": {
        "id": "bbe2b0e5"
      },
      "source": [
        "### Utitlity Functions"
      ]
    },
    {
      "cell_type": "markdown",
      "id": "bc7aabbf",
      "metadata": {
        "id": "bc7aabbf"
      },
      "source": [
        "size / shape\n",
        "\n",
        "describe\n",
        "\n",
        "sample\n",
        "\n",
        "value_counts\n",
        "\n",
        "uniques\n",
        "\n",
        "sort_values"
      ]
    },
    {
      "cell_type": "code",
      "execution_count": null,
      "id": "c8038dd5",
      "metadata": {
        "id": "c8038dd5",
        "outputId": "f3905d7d-4c9e-4c98-deb4-36fadb4cc0b6"
      },
      "outputs": [
        {
          "data": {
            "text/plain": [
              "1092"
            ]
          },
          "execution_count": 96,
          "metadata": {},
          "output_type": "execute_result"
        }
      ],
      "source": [
        "elections.size"
      ]
    },
    {
      "cell_type": "code",
      "execution_count": null,
      "id": "a3d52e17",
      "metadata": {
        "id": "a3d52e17",
        "outputId": "d79b7037-860c-4531-dc1a-e8651efdf514"
      },
      "outputs": [
        {
          "data": {
            "text/plain": [
              "(182, 6)"
            ]
          },
          "execution_count": 97,
          "metadata": {},
          "output_type": "execute_result"
        }
      ],
      "source": [
        "elections.shape"
      ]
    },
    {
      "cell_type": "code",
      "execution_count": null,
      "id": "2c6b5aa7",
      "metadata": {
        "id": "2c6b5aa7",
        "outputId": "b10f5a5a-9a9b-49d6-e850-64c2aab9674f"
      },
      "outputs": [
        {
          "data": {
            "text/html": [
              "<div>\n",
              "<style scoped>\n",
              "    .dataframe tbody tr th:only-of-type {\n",
              "        vertical-align: middle;\n",
              "    }\n",
              "\n",
              "    .dataframe tbody tr th {\n",
              "        vertical-align: top;\n",
              "    }\n",
              "\n",
              "    .dataframe thead th {\n",
              "        text-align: right;\n",
              "    }\n",
              "</style>\n",
              "<table border=\"1\" class=\"dataframe\">\n",
              "  <thead>\n",
              "    <tr style=\"text-align: right;\">\n",
              "      <th></th>\n",
              "      <th>Year</th>\n",
              "      <th>Popular vote</th>\n",
              "      <th>%</th>\n",
              "    </tr>\n",
              "  </thead>\n",
              "  <tbody>\n",
              "    <tr>\n",
              "      <th>count</th>\n",
              "      <td>182.000000</td>\n",
              "      <td>1.820000e+02</td>\n",
              "      <td>182.000000</td>\n",
              "    </tr>\n",
              "    <tr>\n",
              "      <th>mean</th>\n",
              "      <td>1934.087912</td>\n",
              "      <td>1.235364e+07</td>\n",
              "      <td>27.470350</td>\n",
              "    </tr>\n",
              "    <tr>\n",
              "      <th>std</th>\n",
              "      <td>57.048908</td>\n",
              "      <td>1.907715e+07</td>\n",
              "      <td>22.968034</td>\n",
              "    </tr>\n",
              "    <tr>\n",
              "      <th>min</th>\n",
              "      <td>1824.000000</td>\n",
              "      <td>1.007150e+05</td>\n",
              "      <td>0.098088</td>\n",
              "    </tr>\n",
              "    <tr>\n",
              "      <th>25%</th>\n",
              "      <td>1889.000000</td>\n",
              "      <td>3.876395e+05</td>\n",
              "      <td>1.219996</td>\n",
              "    </tr>\n",
              "    <tr>\n",
              "      <th>50%</th>\n",
              "      <td>1936.000000</td>\n",
              "      <td>1.709375e+06</td>\n",
              "      <td>37.677893</td>\n",
              "    </tr>\n",
              "    <tr>\n",
              "      <th>75%</th>\n",
              "      <td>1988.000000</td>\n",
              "      <td>1.897775e+07</td>\n",
              "      <td>48.354977</td>\n",
              "    </tr>\n",
              "    <tr>\n",
              "      <th>max</th>\n",
              "      <td>2020.000000</td>\n",
              "      <td>8.126892e+07</td>\n",
              "      <td>61.344703</td>\n",
              "    </tr>\n",
              "  </tbody>\n",
              "</table>\n",
              "</div>"
            ],
            "text/plain": [
              "              Year  Popular vote           %\n",
              "count   182.000000  1.820000e+02  182.000000\n",
              "mean   1934.087912  1.235364e+07   27.470350\n",
              "std      57.048908  1.907715e+07   22.968034\n",
              "min    1824.000000  1.007150e+05    0.098088\n",
              "25%    1889.000000  3.876395e+05    1.219996\n",
              "50%    1936.000000  1.709375e+06   37.677893\n",
              "75%    1988.000000  1.897775e+07   48.354977\n",
              "max    2020.000000  8.126892e+07   61.344703"
            ]
          },
          "execution_count": 98,
          "metadata": {},
          "output_type": "execute_result"
        }
      ],
      "source": [
        "elections.describe()"
      ]
    },
    {
      "cell_type": "code",
      "execution_count": null,
      "id": "0470f309",
      "metadata": {
        "id": "0470f309",
        "outputId": "33662ee8-5039-4445-d0f2-0aef44e4aef8"
      },
      "outputs": [
        {
          "data": {
            "text/html": [
              "<div>\n",
              "<style scoped>\n",
              "    .dataframe tbody tr th:only-of-type {\n",
              "        vertical-align: middle;\n",
              "    }\n",
              "\n",
              "    .dataframe tbody tr th {\n",
              "        vertical-align: top;\n",
              "    }\n",
              "\n",
              "    .dataframe thead th {\n",
              "        text-align: right;\n",
              "    }\n",
              "</style>\n",
              "<table border=\"1\" class=\"dataframe\">\n",
              "  <thead>\n",
              "    <tr style=\"text-align: right;\">\n",
              "      <th></th>\n",
              "      <th>Year</th>\n",
              "      <th>Candidate</th>\n",
              "      <th>Party</th>\n",
              "      <th>Popular vote</th>\n",
              "      <th>Result</th>\n",
              "      <th>%</th>\n",
              "    </tr>\n",
              "  </thead>\n",
              "  <tbody>\n",
              "    <tr>\n",
              "      <th>141</th>\n",
              "      <td>1992</td>\n",
              "      <td>Bo Gritz</td>\n",
              "      <td>Populist</td>\n",
              "      <td>106152</td>\n",
              "      <td>loss</td>\n",
              "      <td>0.101918</td>\n",
              "    </tr>\n",
              "    <tr>\n",
              "      <th>19</th>\n",
              "      <td>1852</td>\n",
              "      <td>Winfield Scott</td>\n",
              "      <td>Whig</td>\n",
              "      <td>1386942</td>\n",
              "      <td>loss</td>\n",
              "      <td>44.056548</td>\n",
              "    </tr>\n",
              "    <tr>\n",
              "      <th>170</th>\n",
              "      <td>2012</td>\n",
              "      <td>Jill Stein</td>\n",
              "      <td>Green</td>\n",
              "      <td>469627</td>\n",
              "      <td>loss</td>\n",
              "      <td>0.365199</td>\n",
              "    </tr>\n",
              "    <tr>\n",
              "      <th>45</th>\n",
              "      <td>1888</td>\n",
              "      <td>Grover Cleveland</td>\n",
              "      <td>Democratic</td>\n",
              "      <td>5534488</td>\n",
              "      <td>loss</td>\n",
              "      <td>48.656799</td>\n",
              "    </tr>\n",
              "    <tr>\n",
              "      <th>68</th>\n",
              "      <td>1912</td>\n",
              "      <td>Theodore Roosevelt</td>\n",
              "      <td>Progressive</td>\n",
              "      <td>4122721</td>\n",
              "      <td>loss</td>\n",
              "      <td>27.457433</td>\n",
              "    </tr>\n",
              "  </tbody>\n",
              "</table>\n",
              "</div>"
            ],
            "text/plain": [
              "     Year           Candidate        Party  Popular vote Result          %\n",
              "141  1992            Bo Gritz     Populist        106152   loss   0.101918\n",
              "19   1852      Winfield Scott         Whig       1386942   loss  44.056548\n",
              "170  2012          Jill Stein        Green        469627   loss   0.365199\n",
              "45   1888    Grover Cleveland   Democratic       5534488   loss  48.656799\n",
              "68   1912  Theodore Roosevelt  Progressive       4122721   loss  27.457433"
            ]
          },
          "execution_count": 99,
          "metadata": {},
          "output_type": "execute_result"
        }
      ],
      "source": [
        "elections.sample(5)"
      ]
    },
    {
      "cell_type": "code",
      "execution_count": null,
      "id": "c53700b5",
      "metadata": {
        "id": "c53700b5",
        "outputId": "1ad64751-5774-43b3-9758-b81f8dd88fe0"
      },
      "outputs": [
        {
          "data": {
            "text/html": [
              "<div>\n",
              "<style scoped>\n",
              "    .dataframe tbody tr th:only-of-type {\n",
              "        vertical-align: middle;\n",
              "    }\n",
              "\n",
              "    .dataframe tbody tr th {\n",
              "        vertical-align: top;\n",
              "    }\n",
              "\n",
              "    .dataframe thead th {\n",
              "        text-align: right;\n",
              "    }\n",
              "</style>\n",
              "<table border=\"1\" class=\"dataframe\">\n",
              "  <thead>\n",
              "    <tr style=\"text-align: right;\">\n",
              "      <th></th>\n",
              "      <th>Year</th>\n",
              "      <th>Candidate</th>\n",
              "      <th>Party</th>\n",
              "      <th>Popular vote</th>\n",
              "      <th>Result</th>\n",
              "      <th>%</th>\n",
              "    </tr>\n",
              "  </thead>\n",
              "  <tbody>\n",
              "    <tr>\n",
              "      <th>151</th>\n",
              "      <td>2000</td>\n",
              "      <td>Al Gore</td>\n",
              "      <td>Democratic</td>\n",
              "      <td>50999897</td>\n",
              "      <td>loss</td>\n",
              "      <td>48.491813</td>\n",
              "    </tr>\n",
              "    <tr>\n",
              "      <th>153</th>\n",
              "      <td>2000</td>\n",
              "      <td>Harry Browne</td>\n",
              "      <td>Libertarian</td>\n",
              "      <td>384431</td>\n",
              "      <td>loss</td>\n",
              "      <td>0.365525</td>\n",
              "    </tr>\n",
              "    <tr>\n",
              "      <th>151</th>\n",
              "      <td>2000</td>\n",
              "      <td>Al Gore</td>\n",
              "      <td>Democratic</td>\n",
              "      <td>50999897</td>\n",
              "      <td>loss</td>\n",
              "      <td>48.491813</td>\n",
              "    </tr>\n",
              "    <tr>\n",
              "      <th>154</th>\n",
              "      <td>2000</td>\n",
              "      <td>Pat Buchanan</td>\n",
              "      <td>Reform</td>\n",
              "      <td>448895</td>\n",
              "      <td>loss</td>\n",
              "      <td>0.426819</td>\n",
              "    </tr>\n",
              "    <tr>\n",
              "      <th>154</th>\n",
              "      <td>2000</td>\n",
              "      <td>Pat Buchanan</td>\n",
              "      <td>Reform</td>\n",
              "      <td>448895</td>\n",
              "      <td>loss</td>\n",
              "      <td>0.426819</td>\n",
              "    </tr>\n",
              "  </tbody>\n",
              "</table>\n",
              "</div>"
            ],
            "text/plain": [
              "     Year     Candidate        Party  Popular vote Result          %\n",
              "151  2000       Al Gore   Democratic      50999897   loss  48.491813\n",
              "153  2000  Harry Browne  Libertarian        384431   loss   0.365525\n",
              "151  2000       Al Gore   Democratic      50999897   loss  48.491813\n",
              "154  2000  Pat Buchanan       Reform        448895   loss   0.426819\n",
              "154  2000  Pat Buchanan       Reform        448895   loss   0.426819"
            ]
          },
          "execution_count": 100,
          "metadata": {},
          "output_type": "execute_result"
        }
      ],
      "source": [
        "#Chained method calls\n",
        "elections.query('Year == 2000').sample(5, replace=True)"
      ]
    },
    {
      "cell_type": "markdown",
      "id": "a7cab8d0",
      "metadata": {
        "id": "a7cab8d0"
      },
      "source": [
        "### Unique Values and their frequency"
      ]
    },
    {
      "cell_type": "code",
      "execution_count": null,
      "id": "2e21ec9e",
      "metadata": {
        "id": "2e21ec9e",
        "outputId": "f77a7932-0192-4ba9-a4c5-1ff98de32d23"
      },
      "outputs": [
        {
          "data": {
            "text/plain": [
              "Norman Thomas         5\n",
              "Ralph Nader           4\n",
              "Franklin Roosevelt    4\n",
              "Eugene V. Debs        4\n",
              "Andrew Jackson        3\n",
              "                     ..\n",
              "Silas C. Swallow      1\n",
              "Alton B. Parker       1\n",
              "John G. Woolley       1\n",
              "Joshua Levering       1\n",
              "Howard Hawkins        1\n",
              "Name: Candidate, Length: 132, dtype: int64"
            ]
          },
          "execution_count": 101,
          "metadata": {},
          "output_type": "execute_result"
        }
      ],
      "source": [
        "elections[\"Candidate\"].value_counts()"
      ]
    },
    {
      "cell_type": "code",
      "execution_count": null,
      "id": "5a45824f",
      "metadata": {
        "id": "5a45824f",
        "outputId": "3c920c45-0aac-49a5-c3fc-6433a4887928"
      },
      "outputs": [
        {
          "data": {
            "text/plain": [
              "array(['Democratic-Republican', 'Democratic', 'National Republican',\n",
              "       'Anti-Masonic', 'Whig', 'Free Soil', 'Republican', 'American',\n",
              "       'Constitutional Union', 'Southern Democratic',\n",
              "       'Northern Democratic', 'National Union', 'Liberal Republican',\n",
              "       'Greenback', 'Anti-Monopoly', 'Prohibition', 'Union Labor',\n",
              "       'Populist', 'National Democratic', 'Socialist', 'Progressive',\n",
              "       'Farmer–Labor', 'Communist', 'Union', 'Dixiecrat',\n",
              "       \"States' Rights\", 'American Independent', 'Independent',\n",
              "       'Libertarian', 'Citizens', 'New Alliance', 'Taxpayers',\n",
              "       'Natural Law', 'Green', 'Reform', 'Constitution'], dtype=object)"
            ]
          },
          "execution_count": 102,
          "metadata": {},
          "output_type": "execute_result"
        }
      ],
      "source": [
        "#gives a list\n",
        "#value count is at-least 1\n",
        "elections[\"Party\"].unique()"
      ]
    },
    {
      "cell_type": "code",
      "execution_count": null,
      "id": "10be3f72",
      "metadata": {
        "id": "10be3f72",
        "outputId": "8b518bb1-cbf7-444e-9570-478c951a6d0c"
      },
      "outputs": [
        {
          "data": {
            "text/plain": [
              "75           Aaron S. Watkins\n",
              "27            Abraham Lincoln\n",
              "23            Abraham Lincoln\n",
              "108           Adlai Stevenson\n",
              "105           Adlai Stevenson\n",
              "                ...          \n",
              "19             Winfield Scott\n",
              "37     Winfield Scott Hancock\n",
              "74             Woodrow Wilson\n",
              "70             Woodrow Wilson\n",
              "16             Zachary Taylor\n",
              "Name: Candidate, Length: 182, dtype: object"
            ]
          },
          "execution_count": 103,
          "metadata": {},
          "output_type": "execute_result"
        }
      ],
      "source": [
        "elections[\"Candidate\"].sort_values()"
      ]
    },
    {
      "cell_type": "markdown",
      "id": "5384b7ed",
      "metadata": {
        "id": "5384b7ed"
      },
      "source": [
        "### Sorting"
      ]
    },
    {
      "cell_type": "code",
      "execution_count": null,
      "id": "808077b5",
      "metadata": {
        "id": "808077b5",
        "outputId": "19893825-480c-43ba-986c-9a8fb77faf94"
      },
      "outputs": [
        {
          "data": {
            "text/html": [
              "<div>\n",
              "<style scoped>\n",
              "    .dataframe tbody tr th:only-of-type {\n",
              "        vertical-align: middle;\n",
              "    }\n",
              "\n",
              "    .dataframe tbody tr th {\n",
              "        vertical-align: top;\n",
              "    }\n",
              "\n",
              "    .dataframe thead th {\n",
              "        text-align: right;\n",
              "    }\n",
              "</style>\n",
              "<table border=\"1\" class=\"dataframe\">\n",
              "  <thead>\n",
              "    <tr style=\"text-align: right;\">\n",
              "      <th></th>\n",
              "      <th>Year</th>\n",
              "      <th>Candidate</th>\n",
              "      <th>Party</th>\n",
              "      <th>Popular vote</th>\n",
              "      <th>Result</th>\n",
              "      <th>%</th>\n",
              "    </tr>\n",
              "  </thead>\n",
              "  <tbody>\n",
              "    <tr>\n",
              "      <th>114</th>\n",
              "      <td>1964</td>\n",
              "      <td>Lyndon Johnson</td>\n",
              "      <td>Democratic</td>\n",
              "      <td>43127041</td>\n",
              "      <td>win</td>\n",
              "      <td>61.344703</td>\n",
              "    </tr>\n",
              "    <tr>\n",
              "      <th>91</th>\n",
              "      <td>1936</td>\n",
              "      <td>Franklin Roosevelt</td>\n",
              "      <td>Democratic</td>\n",
              "      <td>27752648</td>\n",
              "      <td>win</td>\n",
              "      <td>60.978107</td>\n",
              "    </tr>\n",
              "    <tr>\n",
              "      <th>120</th>\n",
              "      <td>1972</td>\n",
              "      <td>Richard Nixon</td>\n",
              "      <td>Republican</td>\n",
              "      <td>47168710</td>\n",
              "      <td>win</td>\n",
              "      <td>60.907806</td>\n",
              "    </tr>\n",
              "    <tr>\n",
              "      <th>79</th>\n",
              "      <td>1920</td>\n",
              "      <td>Warren Harding</td>\n",
              "      <td>Republican</td>\n",
              "      <td>16144093</td>\n",
              "      <td>win</td>\n",
              "      <td>60.574501</td>\n",
              "    </tr>\n",
              "    <tr>\n",
              "      <th>133</th>\n",
              "      <td>1984</td>\n",
              "      <td>Ronald Reagan</td>\n",
              "      <td>Republican</td>\n",
              "      <td>54455472</td>\n",
              "      <td>win</td>\n",
              "      <td>59.023326</td>\n",
              "    </tr>\n",
              "    <tr>\n",
              "      <th>...</th>\n",
              "      <td>...</td>\n",
              "      <td>...</td>\n",
              "      <td>...</td>\n",
              "      <td>...</td>\n",
              "      <td>...</td>\n",
              "      <td>...</td>\n",
              "    </tr>\n",
              "    <tr>\n",
              "      <th>165</th>\n",
              "      <td>2008</td>\n",
              "      <td>Cynthia McKinney</td>\n",
              "      <td>Green</td>\n",
              "      <td>161797</td>\n",
              "      <td>loss</td>\n",
              "      <td>0.123442</td>\n",
              "    </tr>\n",
              "    <tr>\n",
              "      <th>148</th>\n",
              "      <td>1996</td>\n",
              "      <td>John Hagelin</td>\n",
              "      <td>Natural Law</td>\n",
              "      <td>113670</td>\n",
              "      <td>loss</td>\n",
              "      <td>0.118219</td>\n",
              "    </tr>\n",
              "    <tr>\n",
              "      <th>160</th>\n",
              "      <td>2004</td>\n",
              "      <td>Michael Peroutka</td>\n",
              "      <td>Constitution</td>\n",
              "      <td>143630</td>\n",
              "      <td>loss</td>\n",
              "      <td>0.117542</td>\n",
              "    </tr>\n",
              "    <tr>\n",
              "      <th>141</th>\n",
              "      <td>1992</td>\n",
              "      <td>Bo Gritz</td>\n",
              "      <td>Populist</td>\n",
              "      <td>106152</td>\n",
              "      <td>loss</td>\n",
              "      <td>0.101918</td>\n",
              "    </tr>\n",
              "    <tr>\n",
              "      <th>156</th>\n",
              "      <td>2004</td>\n",
              "      <td>David Cobb</td>\n",
              "      <td>Green</td>\n",
              "      <td>119859</td>\n",
              "      <td>loss</td>\n",
              "      <td>0.098088</td>\n",
              "    </tr>\n",
              "  </tbody>\n",
              "</table>\n",
              "<p>182 rows × 6 columns</p>\n",
              "</div>"
            ],
            "text/plain": [
              "     Year           Candidate         Party  Popular vote Result          %\n",
              "114  1964      Lyndon Johnson    Democratic      43127041    win  61.344703\n",
              "91   1936  Franklin Roosevelt    Democratic      27752648    win  60.978107\n",
              "120  1972       Richard Nixon    Republican      47168710    win  60.907806\n",
              "79   1920      Warren Harding    Republican      16144093    win  60.574501\n",
              "133  1984       Ronald Reagan    Republican      54455472    win  59.023326\n",
              "..    ...                 ...           ...           ...    ...        ...\n",
              "165  2008    Cynthia McKinney         Green        161797   loss   0.123442\n",
              "148  1996        John Hagelin   Natural Law        113670   loss   0.118219\n",
              "160  2004    Michael Peroutka  Constitution        143630   loss   0.117542\n",
              "141  1992            Bo Gritz      Populist        106152   loss   0.101918\n",
              "156  2004          David Cobb         Green        119859   loss   0.098088\n",
              "\n",
              "[182 rows x 6 columns]"
            ]
          },
          "execution_count": 104,
          "metadata": {},
          "output_type": "execute_result"
        }
      ],
      "source": [
        "elections.sort_values(\"%\", ascending=False)"
      ]
    },
    {
      "cell_type": "code",
      "execution_count": null,
      "id": "6a5f0a41",
      "metadata": {
        "id": "6a5f0a41"
      },
      "outputs": [],
      "source": []
    },
    {
      "cell_type": "code",
      "execution_count": null,
      "id": "37d1bf73",
      "metadata": {
        "id": "37d1bf73",
        "outputId": "00635a89-c2c5-4740-9f32-38a5732c7b21"
      },
      "outputs": [
        {
          "ename": "SyntaxError",
          "evalue": "invalid syntax (496271628.py, line 1)",
          "output_type": "error",
          "traceback": [
            "\u001b[1;36m  Input \u001b[1;32mIn [130]\u001b[1;36m\u001b[0m\n\u001b[1;33m    def summation(5)\u001b[0m\n\u001b[1;37m                  ^\u001b[0m\n\u001b[1;31mSyntaxError\u001b[0m\u001b[1;31m:\u001b[0m invalid syntax\n"
          ]
        }
      ],
      "source": []
    },
    {
      "cell_type": "code",
      "execution_count": null,
      "id": "7f60e389",
      "metadata": {
        "id": "7f60e389"
      },
      "outputs": [],
      "source": []
    }
  ],
  "metadata": {
    "kernelspec": {
      "display_name": "Python 3 (ipykernel)",
      "language": "python",
      "name": "python3"
    },
    "language_info": {
      "codemirror_mode": {
        "name": "ipython",
        "version": 3
      },
      "file_extension": ".py",
      "mimetype": "text/x-python",
      "name": "python",
      "nbconvert_exporter": "python",
      "pygments_lexer": "ipython3",
      "version": "3.8.6"
    },
    "colab": {
      "provenance": [],
      "include_colab_link": true
    }
  },
  "nbformat": 4,
  "nbformat_minor": 5
}